{
 "cells": [
  {
   "cell_type": "markdown",
   "id": "7a8bc2b3",
   "metadata": {},
   "source": [
    "# Importing the libraries"
   ]
  },
  {
   "cell_type": "code",
   "execution_count": 1,
   "id": "18c24747",
   "metadata": {},
   "outputs": [],
   "source": [
    "import numpy as np\n",
    "import pandas as pd\n",
    "import matplotlib.pyplot as plt\n",
    "import seaborn as sns\n",
    "from sklearn.ensemble import RandomForestClassifier\n",
    "from sklearn.model_selection import GridSearchCV\n",
    "from sklearn.linear_model import LogisticRegression\n",
    "from sklearn.utils import class_weight\n",
    "import warnings\n",
    "warnings.filterwarnings(\"ignore\")"
   ]
  },
  {
   "cell_type": "markdown",
   "id": "cb4ccd64",
   "metadata": {},
   "source": [
    "# Dataset reading"
   ]
  },
  {
   "cell_type": "code",
   "execution_count": 2,
   "id": "dd46b3dd",
   "metadata": {},
   "outputs": [
    {
     "data": {
      "text/html": [
       "<div>\n",
       "<style scoped>\n",
       "    .dataframe tbody tr th:only-of-type {\n",
       "        vertical-align: middle;\n",
       "    }\n",
       "\n",
       "    .dataframe tbody tr th {\n",
       "        vertical-align: top;\n",
       "    }\n",
       "\n",
       "    .dataframe thead th {\n",
       "        text-align: right;\n",
       "    }\n",
       "</style>\n",
       "<table border=\"1\" class=\"dataframe\">\n",
       "  <thead>\n",
       "    <tr style=\"text-align: right;\">\n",
       "      <th></th>\n",
       "      <th>Unnamed: 0</th>\n",
       "      <th>UTC</th>\n",
       "      <th>Temperature[C]</th>\n",
       "      <th>Humidity[%]</th>\n",
       "      <th>TVOC[ppb]</th>\n",
       "      <th>eCO2[ppm]</th>\n",
       "      <th>Raw H2</th>\n",
       "      <th>Raw Ethanol</th>\n",
       "      <th>Pressure[hPa]</th>\n",
       "      <th>PM1.0</th>\n",
       "      <th>PM2.5</th>\n",
       "      <th>NC0.5</th>\n",
       "      <th>NC1.0</th>\n",
       "      <th>NC2.5</th>\n",
       "      <th>CNT</th>\n",
       "      <th>Fire Alarm</th>\n",
       "    </tr>\n",
       "  </thead>\n",
       "  <tbody>\n",
       "    <tr>\n",
       "      <th>0</th>\n",
       "      <td>0</td>\n",
       "      <td>1654733331</td>\n",
       "      <td>20.000</td>\n",
       "      <td>57.36</td>\n",
       "      <td>0</td>\n",
       "      <td>400</td>\n",
       "      <td>12306</td>\n",
       "      <td>18520</td>\n",
       "      <td>939.735</td>\n",
       "      <td>0.0</td>\n",
       "      <td>0.0</td>\n",
       "      <td>0.0</td>\n",
       "      <td>0.0</td>\n",
       "      <td>0.0</td>\n",
       "      <td>0</td>\n",
       "      <td>0</td>\n",
       "    </tr>\n",
       "    <tr>\n",
       "      <th>1</th>\n",
       "      <td>1</td>\n",
       "      <td>1654733332</td>\n",
       "      <td>20.015</td>\n",
       "      <td>56.67</td>\n",
       "      <td>0</td>\n",
       "      <td>400</td>\n",
       "      <td>12345</td>\n",
       "      <td>18651</td>\n",
       "      <td>939.744</td>\n",
       "      <td>0.0</td>\n",
       "      <td>0.0</td>\n",
       "      <td>0.0</td>\n",
       "      <td>0.0</td>\n",
       "      <td>0.0</td>\n",
       "      <td>1</td>\n",
       "      <td>0</td>\n",
       "    </tr>\n",
       "    <tr>\n",
       "      <th>2</th>\n",
       "      <td>2</td>\n",
       "      <td>1654733333</td>\n",
       "      <td>20.029</td>\n",
       "      <td>55.96</td>\n",
       "      <td>0</td>\n",
       "      <td>400</td>\n",
       "      <td>12374</td>\n",
       "      <td>18764</td>\n",
       "      <td>939.738</td>\n",
       "      <td>0.0</td>\n",
       "      <td>0.0</td>\n",
       "      <td>0.0</td>\n",
       "      <td>0.0</td>\n",
       "      <td>0.0</td>\n",
       "      <td>2</td>\n",
       "      <td>0</td>\n",
       "    </tr>\n",
       "    <tr>\n",
       "      <th>3</th>\n",
       "      <td>3</td>\n",
       "      <td>1654733334</td>\n",
       "      <td>20.044</td>\n",
       "      <td>55.28</td>\n",
       "      <td>0</td>\n",
       "      <td>400</td>\n",
       "      <td>12390</td>\n",
       "      <td>18849</td>\n",
       "      <td>939.736</td>\n",
       "      <td>0.0</td>\n",
       "      <td>0.0</td>\n",
       "      <td>0.0</td>\n",
       "      <td>0.0</td>\n",
       "      <td>0.0</td>\n",
       "      <td>3</td>\n",
       "      <td>0</td>\n",
       "    </tr>\n",
       "    <tr>\n",
       "      <th>4</th>\n",
       "      <td>4</td>\n",
       "      <td>1654733335</td>\n",
       "      <td>20.059</td>\n",
       "      <td>54.69</td>\n",
       "      <td>0</td>\n",
       "      <td>400</td>\n",
       "      <td>12403</td>\n",
       "      <td>18921</td>\n",
       "      <td>939.744</td>\n",
       "      <td>0.0</td>\n",
       "      <td>0.0</td>\n",
       "      <td>0.0</td>\n",
       "      <td>0.0</td>\n",
       "      <td>0.0</td>\n",
       "      <td>4</td>\n",
       "      <td>0</td>\n",
       "    </tr>\n",
       "  </tbody>\n",
       "</table>\n",
       "</div>"
      ],
      "text/plain": [
       "   Unnamed: 0         UTC  Temperature[C]  Humidity[%]  TVOC[ppb]  eCO2[ppm]  \\\n",
       "0           0  1654733331          20.000        57.36          0        400   \n",
       "1           1  1654733332          20.015        56.67          0        400   \n",
       "2           2  1654733333          20.029        55.96          0        400   \n",
       "3           3  1654733334          20.044        55.28          0        400   \n",
       "4           4  1654733335          20.059        54.69          0        400   \n",
       "\n",
       "   Raw H2  Raw Ethanol  Pressure[hPa]  PM1.0  PM2.5  NC0.5  NC1.0  NC2.5  CNT  \\\n",
       "0   12306        18520        939.735    0.0    0.0    0.0    0.0    0.0    0   \n",
       "1   12345        18651        939.744    0.0    0.0    0.0    0.0    0.0    1   \n",
       "2   12374        18764        939.738    0.0    0.0    0.0    0.0    0.0    2   \n",
       "3   12390        18849        939.736    0.0    0.0    0.0    0.0    0.0    3   \n",
       "4   12403        18921        939.744    0.0    0.0    0.0    0.0    0.0    4   \n",
       "\n",
       "   Fire Alarm  \n",
       "0           0  \n",
       "1           0  \n",
       "2           0  \n",
       "3           0  \n",
       "4           0  "
      ]
     },
     "execution_count": 2,
     "metadata": {},
     "output_type": "execute_result"
    }
   ],
   "source": [
    "df=pd.read_csv(\"smoke_detection_iot.csv\")\n",
    "df.head()"
   ]
  },
  {
   "cell_type": "code",
   "execution_count": 3,
   "id": "9ca41bae",
   "metadata": {},
   "outputs": [
    {
     "data": {
      "text/plain": [
       "(62630, 16)"
      ]
     },
     "execution_count": 3,
     "metadata": {},
     "output_type": "execute_result"
    }
   ],
   "source": [
    "df.shape"
   ]
  },
  {
   "cell_type": "code",
   "execution_count": 4,
   "id": "176a296c",
   "metadata": {},
   "outputs": [
    {
     "data": {
      "text/plain": [
       "Unnamed: 0        0\n",
       "UTC               0\n",
       "Temperature[C]    0\n",
       "Humidity[%]       0\n",
       "TVOC[ppb]         0\n",
       "eCO2[ppm]         0\n",
       "Raw H2            0\n",
       "Raw Ethanol       0\n",
       "Pressure[hPa]     0\n",
       "PM1.0             0\n",
       "PM2.5             0\n",
       "NC0.5             0\n",
       "NC1.0             0\n",
       "NC2.5             0\n",
       "CNT               0\n",
       "Fire Alarm        0\n",
       "dtype: int64"
      ]
     },
     "execution_count": 4,
     "metadata": {},
     "output_type": "execute_result"
    }
   ],
   "source": [
    "df.isnull().sum()"
   ]
  },
  {
   "cell_type": "code",
   "execution_count": 5,
   "id": "2f6ce5d5",
   "metadata": {},
   "outputs": [
    {
     "data": {
      "text/html": [
       "<div>\n",
       "<style scoped>\n",
       "    .dataframe tbody tr th:only-of-type {\n",
       "        vertical-align: middle;\n",
       "    }\n",
       "\n",
       "    .dataframe tbody tr th {\n",
       "        vertical-align: top;\n",
       "    }\n",
       "\n",
       "    .dataframe thead th {\n",
       "        text-align: right;\n",
       "    }\n",
       "</style>\n",
       "<table border=\"1\" class=\"dataframe\">\n",
       "  <thead>\n",
       "    <tr style=\"text-align: right;\">\n",
       "      <th></th>\n",
       "      <th>Unnamed: 0</th>\n",
       "      <th>UTC</th>\n",
       "      <th>Temperature[C]</th>\n",
       "      <th>Humidity[%]</th>\n",
       "      <th>TVOC[ppb]</th>\n",
       "      <th>eCO2[ppm]</th>\n",
       "      <th>Raw H2</th>\n",
       "      <th>Raw Ethanol</th>\n",
       "      <th>Pressure[hPa]</th>\n",
       "      <th>PM1.0</th>\n",
       "      <th>PM2.5</th>\n",
       "      <th>NC0.5</th>\n",
       "      <th>NC1.0</th>\n",
       "      <th>NC2.5</th>\n",
       "      <th>CNT</th>\n",
       "      <th>Fire Alarm</th>\n",
       "    </tr>\n",
       "  </thead>\n",
       "  <tbody>\n",
       "  </tbody>\n",
       "</table>\n",
       "</div>"
      ],
      "text/plain": [
       "Empty DataFrame\n",
       "Columns: [Unnamed: 0, UTC, Temperature[C], Humidity[%], TVOC[ppb], eCO2[ppm], Raw H2, Raw Ethanol, Pressure[hPa], PM1.0, PM2.5, NC0.5, NC1.0, NC2.5, CNT, Fire Alarm]\n",
       "Index: []"
      ]
     },
     "execution_count": 5,
     "metadata": {},
     "output_type": "execute_result"
    }
   ],
   "source": [
    "duplicate = df[df.duplicated()]\n",
    "duplicate.head()"
   ]
  },
  {
   "cell_type": "code",
   "execution_count": 6,
   "id": "da7f51af",
   "metadata": {},
   "outputs": [
    {
     "data": {
      "text/plain": [
       "1    44757\n",
       "0    17873\n",
       "Name: Fire Alarm, dtype: int64"
      ]
     },
     "execution_count": 6,
     "metadata": {},
     "output_type": "execute_result"
    }
   ],
   "source": [
    "df['Fire Alarm'].value_counts()"
   ]
  },
  {
   "cell_type": "code",
   "execution_count": 7,
   "id": "5e2013fe",
   "metadata": {},
   "outputs": [],
   "source": [
    "df.drop(['Unnamed: 0'], axis=1, inplace= True)"
   ]
  },
  {
   "cell_type": "code",
   "execution_count": 8,
   "id": "849777ad",
   "metadata": {},
   "outputs": [
    {
     "data": {
      "text/html": [
       "<div>\n",
       "<style scoped>\n",
       "    .dataframe tbody tr th:only-of-type {\n",
       "        vertical-align: middle;\n",
       "    }\n",
       "\n",
       "    .dataframe tbody tr th {\n",
       "        vertical-align: top;\n",
       "    }\n",
       "\n",
       "    .dataframe thead th {\n",
       "        text-align: right;\n",
       "    }\n",
       "</style>\n",
       "<table border=\"1\" class=\"dataframe\">\n",
       "  <thead>\n",
       "    <tr style=\"text-align: right;\">\n",
       "      <th></th>\n",
       "      <th>UTC</th>\n",
       "      <th>Temperature[C]</th>\n",
       "      <th>Humidity[%]</th>\n",
       "      <th>TVOC[ppb]</th>\n",
       "      <th>eCO2[ppm]</th>\n",
       "      <th>Raw H2</th>\n",
       "      <th>Raw Ethanol</th>\n",
       "      <th>Pressure[hPa]</th>\n",
       "      <th>PM1.0</th>\n",
       "      <th>PM2.5</th>\n",
       "      <th>NC0.5</th>\n",
       "      <th>NC1.0</th>\n",
       "      <th>NC2.5</th>\n",
       "      <th>CNT</th>\n",
       "      <th>Fire Alarm</th>\n",
       "    </tr>\n",
       "  </thead>\n",
       "  <tbody>\n",
       "    <tr>\n",
       "      <th>0</th>\n",
       "      <td>1654733331</td>\n",
       "      <td>20.000</td>\n",
       "      <td>57.36</td>\n",
       "      <td>0</td>\n",
       "      <td>400</td>\n",
       "      <td>12306</td>\n",
       "      <td>18520</td>\n",
       "      <td>939.735</td>\n",
       "      <td>0.0</td>\n",
       "      <td>0.0</td>\n",
       "      <td>0.0</td>\n",
       "      <td>0.0</td>\n",
       "      <td>0.0</td>\n",
       "      <td>0</td>\n",
       "      <td>0</td>\n",
       "    </tr>\n",
       "    <tr>\n",
       "      <th>1</th>\n",
       "      <td>1654733332</td>\n",
       "      <td>20.015</td>\n",
       "      <td>56.67</td>\n",
       "      <td>0</td>\n",
       "      <td>400</td>\n",
       "      <td>12345</td>\n",
       "      <td>18651</td>\n",
       "      <td>939.744</td>\n",
       "      <td>0.0</td>\n",
       "      <td>0.0</td>\n",
       "      <td>0.0</td>\n",
       "      <td>0.0</td>\n",
       "      <td>0.0</td>\n",
       "      <td>1</td>\n",
       "      <td>0</td>\n",
       "    </tr>\n",
       "    <tr>\n",
       "      <th>2</th>\n",
       "      <td>1654733333</td>\n",
       "      <td>20.029</td>\n",
       "      <td>55.96</td>\n",
       "      <td>0</td>\n",
       "      <td>400</td>\n",
       "      <td>12374</td>\n",
       "      <td>18764</td>\n",
       "      <td>939.738</td>\n",
       "      <td>0.0</td>\n",
       "      <td>0.0</td>\n",
       "      <td>0.0</td>\n",
       "      <td>0.0</td>\n",
       "      <td>0.0</td>\n",
       "      <td>2</td>\n",
       "      <td>0</td>\n",
       "    </tr>\n",
       "    <tr>\n",
       "      <th>3</th>\n",
       "      <td>1654733334</td>\n",
       "      <td>20.044</td>\n",
       "      <td>55.28</td>\n",
       "      <td>0</td>\n",
       "      <td>400</td>\n",
       "      <td>12390</td>\n",
       "      <td>18849</td>\n",
       "      <td>939.736</td>\n",
       "      <td>0.0</td>\n",
       "      <td>0.0</td>\n",
       "      <td>0.0</td>\n",
       "      <td>0.0</td>\n",
       "      <td>0.0</td>\n",
       "      <td>3</td>\n",
       "      <td>0</td>\n",
       "    </tr>\n",
       "    <tr>\n",
       "      <th>4</th>\n",
       "      <td>1654733335</td>\n",
       "      <td>20.059</td>\n",
       "      <td>54.69</td>\n",
       "      <td>0</td>\n",
       "      <td>400</td>\n",
       "      <td>12403</td>\n",
       "      <td>18921</td>\n",
       "      <td>939.744</td>\n",
       "      <td>0.0</td>\n",
       "      <td>0.0</td>\n",
       "      <td>0.0</td>\n",
       "      <td>0.0</td>\n",
       "      <td>0.0</td>\n",
       "      <td>4</td>\n",
       "      <td>0</td>\n",
       "    </tr>\n",
       "  </tbody>\n",
       "</table>\n",
       "</div>"
      ],
      "text/plain": [
       "          UTC  Temperature[C]  Humidity[%]  TVOC[ppb]  eCO2[ppm]  Raw H2  \\\n",
       "0  1654733331          20.000        57.36          0        400   12306   \n",
       "1  1654733332          20.015        56.67          0        400   12345   \n",
       "2  1654733333          20.029        55.96          0        400   12374   \n",
       "3  1654733334          20.044        55.28          0        400   12390   \n",
       "4  1654733335          20.059        54.69          0        400   12403   \n",
       "\n",
       "   Raw Ethanol  Pressure[hPa]  PM1.0  PM2.5  NC0.5  NC1.0  NC2.5  CNT  \\\n",
       "0        18520        939.735    0.0    0.0    0.0    0.0    0.0    0   \n",
       "1        18651        939.744    0.0    0.0    0.0    0.0    0.0    1   \n",
       "2        18764        939.738    0.0    0.0    0.0    0.0    0.0    2   \n",
       "3        18849        939.736    0.0    0.0    0.0    0.0    0.0    3   \n",
       "4        18921        939.744    0.0    0.0    0.0    0.0    0.0    4   \n",
       "\n",
       "   Fire Alarm  \n",
       "0           0  \n",
       "1           0  \n",
       "2           0  \n",
       "3           0  \n",
       "4           0  "
      ]
     },
     "execution_count": 8,
     "metadata": {},
     "output_type": "execute_result"
    }
   ],
   "source": [
    "df.head()"
   ]
  },
  {
   "cell_type": "markdown",
   "id": "02ebdb6b",
   "metadata": {},
   "source": [
    "# EDA"
   ]
  },
  {
   "cell_type": "code",
   "execution_count": 9,
   "id": "cb7873cd",
   "metadata": {},
   "outputs": [
    {
     "data": {
      "image/png": "[encoded data removed]",
      "text/plain": [
       "<Figure size 1440x2880 with 15 Axes>"
      ]
     },
     "metadata": {
      "needs_background": "light"
     },
     "output_type": "display_data"
    }
   ],
   "source": [
    "j =1\n",
    "fig = plt.figure(figsize = (20,40))\n",
    "for i in df.columns: \n",
    "    plt.subplot(16,2,j)\n",
    "    df[i].value_counts().plot(kind ='hist')\n",
    "    j=j+1\n",
    "    plt.title(i)\n",
    "plt.tight_layout()"
   ]
  },
  {
   "cell_type": "code",
   "execution_count": 10,
   "id": "c9434808",
   "metadata": {},
   "outputs": [
    {
     "data": {
      "image/png": "[encoded data removed]",
      "text/plain": [
       "<Figure size 1440x2880 with 15 Axes>"
      ]
     },
     "metadata": {
      "needs_background": "light"
     },
     "output_type": "display_data"
    }
   ],
   "source": [
    "j =1\n",
    "fig = plt.figure(figsize = (20,40))\n",
    "for i in df.columns:\n",
    "    \n",
    "    plt.subplot(16,2,j)\n",
    "    sns.distplot(df[i],hist = False)\n",
    "    j = j+1\n",
    "    plt.title(i)\n",
    "plt.tight_layout()\n"
   ]
  },
  {
   "cell_type": "markdown",
   "id": "ed36f1c6",
   "metadata": {},
   "source": [
    "# Observation"
   ]
  },
  {
   "cell_type": "markdown",
   "id": "23277b82",
   "metadata": {},
   "source": [
    "* It is clear that the majority of the fields are skewed from the above histogram and distplots. Since the data is skewed, our dataset contains outliers. Let's depict that utilising Boxplots."
   ]
  },
  {
   "cell_type": "code",
   "execution_count": 11,
   "id": "8c083358",
   "metadata": {},
   "outputs": [
    {
     "data": {
      "image/png": "[encoded data removed]",
      "text/plain": [
       "<Figure size 1440x1440 with 15 Axes>"
      ]
     },
     "metadata": {
      "needs_background": "light"
     },
     "output_type": "display_data"
    }
   ],
   "source": [
    "j =1\n",
    "plt.figure(figsize = (20,20))\n",
    "for i in df.columns:\n",
    "    plt.subplot(8,2,j)\n",
    "    sns.boxplot(df[i])\n",
    "    j=j+1\n",
    "plt.tight_layout()"
   ]
  },
  {
   "cell_type": "markdown",
   "id": "2ac10f0d",
   "metadata": {},
   "source": [
    "# Observations"
   ]
  },
  {
   "cell_type": "markdown",
   "id": "e4559f4b",
   "metadata": {},
   "source": [
    "* We may conclude from the box plot that the outliers can be found just outside of the IQR. They can just be seen clearly near the lower and upper levels of IQR.\n",
    "\n",
    "* In another way, by calculating the mean and median, we can more precisely confirm the existence of outliers. We may claim that there are very little possibilities of seeing an outlier if both the values are nearly identical."
   ]
  },
  {
   "cell_type": "code",
   "execution_count": 12,
   "id": "0d02e62e",
   "metadata": {},
   "outputs": [],
   "source": [
    "Fire = df[df['Fire Alarm']==1]\n",
    "\n",
    "No_fire = df[df['Fire Alarm']==0]"
   ]
  },
  {
   "cell_type": "code",
   "execution_count": 13,
   "id": "1ad27366",
   "metadata": {},
   "outputs": [
    {
     "data": {
      "text/html": [
       "<div>\n",
       "<style scoped>\n",
       "    .dataframe tbody tr th:only-of-type {\n",
       "        vertical-align: middle;\n",
       "    }\n",
       "\n",
       "    .dataframe tbody tr th {\n",
       "        vertical-align: top;\n",
       "    }\n",
       "\n",
       "    .dataframe thead th {\n",
       "        text-align: right;\n",
       "    }\n",
       "</style>\n",
       "<table border=\"1\" class=\"dataframe\">\n",
       "  <thead>\n",
       "    <tr style=\"text-align: right;\">\n",
       "      <th></th>\n",
       "      <th>UTC</th>\n",
       "      <th>Temperature[C]</th>\n",
       "      <th>Humidity[%]</th>\n",
       "      <th>TVOC[ppb]</th>\n",
       "      <th>eCO2[ppm]</th>\n",
       "      <th>Raw H2</th>\n",
       "      <th>Raw Ethanol</th>\n",
       "      <th>Pressure[hPa]</th>\n",
       "      <th>PM1.0</th>\n",
       "      <th>PM2.5</th>\n",
       "      <th>NC0.5</th>\n",
       "      <th>NC1.0</th>\n",
       "      <th>NC2.5</th>\n",
       "      <th>CNT</th>\n",
       "      <th>Fire Alarm</th>\n",
       "    </tr>\n",
       "  </thead>\n",
       "  <tbody>\n",
       "    <tr>\n",
       "      <th>3178</th>\n",
       "      <td>1654736509</td>\n",
       "      <td>9.381</td>\n",
       "      <td>56.86</td>\n",
       "      <td>11</td>\n",
       "      <td>400</td>\n",
       "      <td>13347</td>\n",
       "      <td>20160</td>\n",
       "      <td>939.575</td>\n",
       "      <td>1.78</td>\n",
       "      <td>1.85</td>\n",
       "      <td>12.25</td>\n",
       "      <td>1.911</td>\n",
       "      <td>0.043</td>\n",
       "      <td>3178</td>\n",
       "      <td>1</td>\n",
       "    </tr>\n",
       "    <tr>\n",
       "      <th>3179</th>\n",
       "      <td>1654736510</td>\n",
       "      <td>9.368</td>\n",
       "      <td>58.60</td>\n",
       "      <td>0</td>\n",
       "      <td>400</td>\n",
       "      <td>13385</td>\n",
       "      <td>20202</td>\n",
       "      <td>939.574</td>\n",
       "      <td>1.80</td>\n",
       "      <td>1.87</td>\n",
       "      <td>12.41</td>\n",
       "      <td>1.935</td>\n",
       "      <td>0.044</td>\n",
       "      <td>3179</td>\n",
       "      <td>1</td>\n",
       "    </tr>\n",
       "    <tr>\n",
       "      <th>3180</th>\n",
       "      <td>1654736511</td>\n",
       "      <td>9.356</td>\n",
       "      <td>60.38</td>\n",
       "      <td>0</td>\n",
       "      <td>400</td>\n",
       "      <td>13388</td>\n",
       "      <td>20248</td>\n",
       "      <td>938.858</td>\n",
       "      <td>1.94</td>\n",
       "      <td>2.01</td>\n",
       "      <td>13.32</td>\n",
       "      <td>2.077</td>\n",
       "      <td>0.047</td>\n",
       "      <td>3180</td>\n",
       "      <td>1</td>\n",
       "    </tr>\n",
       "    <tr>\n",
       "      <th>3181</th>\n",
       "      <td>1654736512</td>\n",
       "      <td>9.343</td>\n",
       "      <td>62.22</td>\n",
       "      <td>0</td>\n",
       "      <td>400</td>\n",
       "      <td>13443</td>\n",
       "      <td>20315</td>\n",
       "      <td>939.044</td>\n",
       "      <td>2.00</td>\n",
       "      <td>2.08</td>\n",
       "      <td>13.75</td>\n",
       "      <td>2.145</td>\n",
       "      <td>0.048</td>\n",
       "      <td>3181</td>\n",
       "      <td>1</td>\n",
       "    </tr>\n",
       "    <tr>\n",
       "      <th>3182</th>\n",
       "      <td>1654736513</td>\n",
       "      <td>9.331</td>\n",
       "      <td>63.11</td>\n",
       "      <td>0</td>\n",
       "      <td>400</td>\n",
       "      <td>13457</td>\n",
       "      <td>20348</td>\n",
       "      <td>939.193</td>\n",
       "      <td>2.07</td>\n",
       "      <td>2.15</td>\n",
       "      <td>14.24</td>\n",
       "      <td>2.220</td>\n",
       "      <td>0.050</td>\n",
       "      <td>3182</td>\n",
       "      <td>1</td>\n",
       "    </tr>\n",
       "    <tr>\n",
       "      <th>...</th>\n",
       "      <td>...</td>\n",
       "      <td>...</td>\n",
       "      <td>...</td>\n",
       "      <td>...</td>\n",
       "      <td>...</td>\n",
       "      <td>...</td>\n",
       "      <td>...</td>\n",
       "      <td>...</td>\n",
       "      <td>...</td>\n",
       "      <td>...</td>\n",
       "      <td>...</td>\n",
       "      <td>...</td>\n",
       "      <td>...</td>\n",
       "      <td>...</td>\n",
       "      <td>...</td>\n",
       "    </tr>\n",
       "    <tr>\n",
       "      <th>51141</th>\n",
       "      <td>1654904158</td>\n",
       "      <td>31.120</td>\n",
       "      <td>18.67</td>\n",
       "      <td>0</td>\n",
       "      <td>873</td>\n",
       "      <td>13077</td>\n",
       "      <td>20927</td>\n",
       "      <td>930.929</td>\n",
       "      <td>1.00</td>\n",
       "      <td>1.04</td>\n",
       "      <td>6.89</td>\n",
       "      <td>1.075</td>\n",
       "      <td>0.024</td>\n",
       "      <td>1153</td>\n",
       "      <td>1</td>\n",
       "    </tr>\n",
       "    <tr>\n",
       "      <th>51145</th>\n",
       "      <td>1654712190</td>\n",
       "      <td>27.320</td>\n",
       "      <td>43.84</td>\n",
       "      <td>29</td>\n",
       "      <td>454</td>\n",
       "      <td>12858</td>\n",
       "      <td>20752</td>\n",
       "      <td>937.610</td>\n",
       "      <td>2.24</td>\n",
       "      <td>2.32</td>\n",
       "      <td>15.39</td>\n",
       "      <td>2.400</td>\n",
       "      <td>0.054</td>\n",
       "      <td>3</td>\n",
       "      <td>1</td>\n",
       "    </tr>\n",
       "    <tr>\n",
       "      <th>51146</th>\n",
       "      <td>1654712191</td>\n",
       "      <td>27.270</td>\n",
       "      <td>43.98</td>\n",
       "      <td>28</td>\n",
       "      <td>456</td>\n",
       "      <td>12860</td>\n",
       "      <td>20751</td>\n",
       "      <td>937.601</td>\n",
       "      <td>2.26</td>\n",
       "      <td>2.35</td>\n",
       "      <td>15.58</td>\n",
       "      <td>2.429</td>\n",
       "      <td>0.055</td>\n",
       "      <td>4</td>\n",
       "      <td>1</td>\n",
       "    </tr>\n",
       "    <tr>\n",
       "      <th>56889</th>\n",
       "      <td>1655124311</td>\n",
       "      <td>20.191</td>\n",
       "      <td>43.84</td>\n",
       "      <td>29</td>\n",
       "      <td>454</td>\n",
       "      <td>12858</td>\n",
       "      <td>20752</td>\n",
       "      <td>937.610</td>\n",
       "      <td>2.24</td>\n",
       "      <td>2.32</td>\n",
       "      <td>15.39</td>\n",
       "      <td>2.400</td>\n",
       "      <td>0.054</td>\n",
       "      <td>3</td>\n",
       "      <td>1</td>\n",
       "    </tr>\n",
       "    <tr>\n",
       "      <th>56890</th>\n",
       "      <td>1655124312</td>\n",
       "      <td>20.254</td>\n",
       "      <td>43.98</td>\n",
       "      <td>28</td>\n",
       "      <td>456</td>\n",
       "      <td>12860</td>\n",
       "      <td>20751</td>\n",
       "      <td>937.601</td>\n",
       "      <td>2.26</td>\n",
       "      <td>2.35</td>\n",
       "      <td>15.58</td>\n",
       "      <td>2.429</td>\n",
       "      <td>0.055</td>\n",
       "      <td>4</td>\n",
       "      <td>1</td>\n",
       "    </tr>\n",
       "  </tbody>\n",
       "</table>\n",
       "<p>44757 rows × 15 columns</p>\n",
       "</div>"
      ],
      "text/plain": [
       "              UTC  Temperature[C]  Humidity[%]  TVOC[ppb]  eCO2[ppm]  Raw H2  \\\n",
       "3178   1654736509           9.381        56.86         11        400   13347   \n",
       "3179   1654736510           9.368        58.60          0        400   13385   \n",
       "3180   1654736511           9.356        60.38          0        400   13388   \n",
       "3181   1654736512           9.343        62.22          0        400   13443   \n",
       "3182   1654736513           9.331        63.11          0        400   13457   \n",
       "...           ...             ...          ...        ...        ...     ...   \n",
       "51141  1654904158          31.120        18.67          0        873   13077   \n",
       "51145  1654712190          27.320        43.84         29        454   12858   \n",
       "51146  1654712191          27.270        43.98         28        456   12860   \n",
       "56889  1655124311          20.191        43.84         29        454   12858   \n",
       "56890  1655124312          20.254        43.98         28        456   12860   \n",
       "\n",
       "       Raw Ethanol  Pressure[hPa]  PM1.0  PM2.5  NC0.5  NC1.0  NC2.5   CNT  \\\n",
       "3178         20160        939.575   1.78   1.85  12.25  1.911  0.043  3178   \n",
       "3179         20202        939.574   1.80   1.87  12.41  1.935  0.044  3179   \n",
       "3180         20248        938.858   1.94   2.01  13.32  2.077  0.047  3180   \n",
       "3181         20315        939.044   2.00   2.08  13.75  2.145  0.048  3181   \n",
       "3182         20348        939.193   2.07   2.15  14.24  2.220  0.050  3182   \n",
       "...            ...            ...    ...    ...    ...    ...    ...   ...   \n",
       "51141        20927        930.929   1.00   1.04   6.89  1.075  0.024  1153   \n",
       "51145        20752        937.610   2.24   2.32  15.39  2.400  0.054     3   \n",
       "51146        20751        937.601   2.26   2.35  15.58  2.429  0.055     4   \n",
       "56889        20752        937.610   2.24   2.32  15.39  2.400  0.054     3   \n",
       "56890        20751        937.601   2.26   2.35  15.58  2.429  0.055     4   \n",
       "\n",
       "       Fire Alarm  \n",
       "3178            1  \n",
       "3179            1  \n",
       "3180            1  \n",
       "3181            1  \n",
       "3182            1  \n",
       "...           ...  \n",
       "51141           1  \n",
       "51145           1  \n",
       "51146           1  \n",
       "56889           1  \n",
       "56890           1  \n",
       "\n",
       "[44757 rows x 15 columns]"
      ]
     },
     "execution_count": 13,
     "metadata": {},
     "output_type": "execute_result"
    }
   ],
   "source": [
    "Fire"
   ]
  },
  {
   "cell_type": "code",
   "execution_count": 14,
   "id": "1bd7a8f9",
   "metadata": {},
   "outputs": [
    {
     "data": {
      "text/html": [
       "<div>\n",
       "<style scoped>\n",
       "    .dataframe tbody tr th:only-of-type {\n",
       "        vertical-align: middle;\n",
       "    }\n",
       "\n",
       "    .dataframe tbody tr th {\n",
       "        vertical-align: top;\n",
       "    }\n",
       "\n",
       "    .dataframe thead th {\n",
       "        text-align: right;\n",
       "    }\n",
       "</style>\n",
       "<table border=\"1\" class=\"dataframe\">\n",
       "  <thead>\n",
       "    <tr style=\"text-align: right;\">\n",
       "      <th></th>\n",
       "      <th>UTC</th>\n",
       "      <th>Temperature[C]</th>\n",
       "      <th>Humidity[%]</th>\n",
       "      <th>TVOC[ppb]</th>\n",
       "      <th>eCO2[ppm]</th>\n",
       "      <th>Raw H2</th>\n",
       "      <th>Raw Ethanol</th>\n",
       "      <th>Pressure[hPa]</th>\n",
       "      <th>PM1.0</th>\n",
       "      <th>PM2.5</th>\n",
       "      <th>NC0.5</th>\n",
       "      <th>NC1.0</th>\n",
       "      <th>NC2.5</th>\n",
       "      <th>CNT</th>\n",
       "      <th>Fire Alarm</th>\n",
       "    </tr>\n",
       "  </thead>\n",
       "  <tbody>\n",
       "    <tr>\n",
       "      <th>0</th>\n",
       "      <td>1654733331</td>\n",
       "      <td>20.000</td>\n",
       "      <td>57.36</td>\n",
       "      <td>0</td>\n",
       "      <td>400</td>\n",
       "      <td>12306</td>\n",
       "      <td>18520</td>\n",
       "      <td>939.735</td>\n",
       "      <td>0.00</td>\n",
       "      <td>0.00</td>\n",
       "      <td>0.00</td>\n",
       "      <td>0.000</td>\n",
       "      <td>0.000</td>\n",
       "      <td>0</td>\n",
       "      <td>0</td>\n",
       "    </tr>\n",
       "    <tr>\n",
       "      <th>1</th>\n",
       "      <td>1654733332</td>\n",
       "      <td>20.015</td>\n",
       "      <td>56.67</td>\n",
       "      <td>0</td>\n",
       "      <td>400</td>\n",
       "      <td>12345</td>\n",
       "      <td>18651</td>\n",
       "      <td>939.744</td>\n",
       "      <td>0.00</td>\n",
       "      <td>0.00</td>\n",
       "      <td>0.00</td>\n",
       "      <td>0.000</td>\n",
       "      <td>0.000</td>\n",
       "      <td>1</td>\n",
       "      <td>0</td>\n",
       "    </tr>\n",
       "    <tr>\n",
       "      <th>2</th>\n",
       "      <td>1654733333</td>\n",
       "      <td>20.029</td>\n",
       "      <td>55.96</td>\n",
       "      <td>0</td>\n",
       "      <td>400</td>\n",
       "      <td>12374</td>\n",
       "      <td>18764</td>\n",
       "      <td>939.738</td>\n",
       "      <td>0.00</td>\n",
       "      <td>0.00</td>\n",
       "      <td>0.00</td>\n",
       "      <td>0.000</td>\n",
       "      <td>0.000</td>\n",
       "      <td>2</td>\n",
       "      <td>0</td>\n",
       "    </tr>\n",
       "    <tr>\n",
       "      <th>3</th>\n",
       "      <td>1654733334</td>\n",
       "      <td>20.044</td>\n",
       "      <td>55.28</td>\n",
       "      <td>0</td>\n",
       "      <td>400</td>\n",
       "      <td>12390</td>\n",
       "      <td>18849</td>\n",
       "      <td>939.736</td>\n",
       "      <td>0.00</td>\n",
       "      <td>0.00</td>\n",
       "      <td>0.00</td>\n",
       "      <td>0.000</td>\n",
       "      <td>0.000</td>\n",
       "      <td>3</td>\n",
       "      <td>0</td>\n",
       "    </tr>\n",
       "    <tr>\n",
       "      <th>4</th>\n",
       "      <td>1654733335</td>\n",
       "      <td>20.059</td>\n",
       "      <td>54.69</td>\n",
       "      <td>0</td>\n",
       "      <td>400</td>\n",
       "      <td>12403</td>\n",
       "      <td>18921</td>\n",
       "      <td>939.744</td>\n",
       "      <td>0.00</td>\n",
       "      <td>0.00</td>\n",
       "      <td>0.00</td>\n",
       "      <td>0.000</td>\n",
       "      <td>0.000</td>\n",
       "      <td>4</td>\n",
       "      <td>0</td>\n",
       "    </tr>\n",
       "    <tr>\n",
       "      <th>...</th>\n",
       "      <td>...</td>\n",
       "      <td>...</td>\n",
       "      <td>...</td>\n",
       "      <td>...</td>\n",
       "      <td>...</td>\n",
       "      <td>...</td>\n",
       "      <td>...</td>\n",
       "      <td>...</td>\n",
       "      <td>...</td>\n",
       "      <td>...</td>\n",
       "      <td>...</td>\n",
       "      <td>...</td>\n",
       "      <td>...</td>\n",
       "      <td>...</td>\n",
       "      <td>...</td>\n",
       "    </tr>\n",
       "    <tr>\n",
       "      <th>62625</th>\n",
       "      <td>1655130047</td>\n",
       "      <td>18.438</td>\n",
       "      <td>15.79</td>\n",
       "      <td>625</td>\n",
       "      <td>400</td>\n",
       "      <td>13723</td>\n",
       "      <td>20569</td>\n",
       "      <td>936.670</td>\n",
       "      <td>0.63</td>\n",
       "      <td>0.65</td>\n",
       "      <td>4.32</td>\n",
       "      <td>0.673</td>\n",
       "      <td>0.015</td>\n",
       "      <td>5739</td>\n",
       "      <td>0</td>\n",
       "    </tr>\n",
       "    <tr>\n",
       "      <th>62626</th>\n",
       "      <td>1655130048</td>\n",
       "      <td>18.653</td>\n",
       "      <td>15.87</td>\n",
       "      <td>612</td>\n",
       "      <td>400</td>\n",
       "      <td>13731</td>\n",
       "      <td>20588</td>\n",
       "      <td>936.678</td>\n",
       "      <td>0.61</td>\n",
       "      <td>0.63</td>\n",
       "      <td>4.18</td>\n",
       "      <td>0.652</td>\n",
       "      <td>0.015</td>\n",
       "      <td>5740</td>\n",
       "      <td>0</td>\n",
       "    </tr>\n",
       "    <tr>\n",
       "      <th>62627</th>\n",
       "      <td>1655130049</td>\n",
       "      <td>18.867</td>\n",
       "      <td>15.84</td>\n",
       "      <td>627</td>\n",
       "      <td>400</td>\n",
       "      <td>13725</td>\n",
       "      <td>20582</td>\n",
       "      <td>936.687</td>\n",
       "      <td>0.57</td>\n",
       "      <td>0.60</td>\n",
       "      <td>3.95</td>\n",
       "      <td>0.617</td>\n",
       "      <td>0.014</td>\n",
       "      <td>5741</td>\n",
       "      <td>0</td>\n",
       "    </tr>\n",
       "    <tr>\n",
       "      <th>62628</th>\n",
       "      <td>1655130050</td>\n",
       "      <td>19.083</td>\n",
       "      <td>16.04</td>\n",
       "      <td>638</td>\n",
       "      <td>400</td>\n",
       "      <td>13712</td>\n",
       "      <td>20566</td>\n",
       "      <td>936.680</td>\n",
       "      <td>0.57</td>\n",
       "      <td>0.59</td>\n",
       "      <td>3.92</td>\n",
       "      <td>0.611</td>\n",
       "      <td>0.014</td>\n",
       "      <td>5742</td>\n",
       "      <td>0</td>\n",
       "    </tr>\n",
       "    <tr>\n",
       "      <th>62629</th>\n",
       "      <td>1655130051</td>\n",
       "      <td>19.299</td>\n",
       "      <td>16.52</td>\n",
       "      <td>643</td>\n",
       "      <td>400</td>\n",
       "      <td>13696</td>\n",
       "      <td>20543</td>\n",
       "      <td>936.676</td>\n",
       "      <td>0.57</td>\n",
       "      <td>0.59</td>\n",
       "      <td>3.90</td>\n",
       "      <td>0.607</td>\n",
       "      <td>0.014</td>\n",
       "      <td>5743</td>\n",
       "      <td>0</td>\n",
       "    </tr>\n",
       "  </tbody>\n",
       "</table>\n",
       "<p>17873 rows × 15 columns</p>\n",
       "</div>"
      ],
      "text/plain": [
       "              UTC  Temperature[C]  Humidity[%]  TVOC[ppb]  eCO2[ppm]  Raw H2  \\\n",
       "0      1654733331          20.000        57.36          0        400   12306   \n",
       "1      1654733332          20.015        56.67          0        400   12345   \n",
       "2      1654733333          20.029        55.96          0        400   12374   \n",
       "3      1654733334          20.044        55.28          0        400   12390   \n",
       "4      1654733335          20.059        54.69          0        400   12403   \n",
       "...           ...             ...          ...        ...        ...     ...   \n",
       "62625  1655130047          18.438        15.79        625        400   13723   \n",
       "62626  1655130048          18.653        15.87        612        400   13731   \n",
       "62627  1655130049          18.867        15.84        627        400   13725   \n",
       "62628  1655130050          19.083        16.04        638        400   13712   \n",
       "62629  1655130051          19.299        16.52        643        400   13696   \n",
       "\n",
       "       Raw Ethanol  Pressure[hPa]  PM1.0  PM2.5  NC0.5  NC1.0  NC2.5   CNT  \\\n",
       "0            18520        939.735   0.00   0.00   0.00  0.000  0.000     0   \n",
       "1            18651        939.744   0.00   0.00   0.00  0.000  0.000     1   \n",
       "2            18764        939.738   0.00   0.00   0.00  0.000  0.000     2   \n",
       "3            18849        939.736   0.00   0.00   0.00  0.000  0.000     3   \n",
       "4            18921        939.744   0.00   0.00   0.00  0.000  0.000     4   \n",
       "...            ...            ...    ...    ...    ...    ...    ...   ...   \n",
       "62625        20569        936.670   0.63   0.65   4.32  0.673  0.015  5739   \n",
       "62626        20588        936.678   0.61   0.63   4.18  0.652  0.015  5740   \n",
       "62627        20582        936.687   0.57   0.60   3.95  0.617  0.014  5741   \n",
       "62628        20566        936.680   0.57   0.59   3.92  0.611  0.014  5742   \n",
       "62629        20543        936.676   0.57   0.59   3.90  0.607  0.014  5743   \n",
       "\n",
       "       Fire Alarm  \n",
       "0               0  \n",
       "1               0  \n",
       "2               0  \n",
       "3               0  \n",
       "4               0  \n",
       "...           ...  \n",
       "62625           0  \n",
       "62626           0  \n",
       "62627           0  \n",
       "62628           0  \n",
       "62629           0  \n",
       "\n",
       "[17873 rows x 15 columns]"
      ]
     },
     "execution_count": 14,
     "metadata": {},
     "output_type": "execute_result"
    }
   ],
   "source": [
    "No_fire"
   ]
  },
  {
   "cell_type": "code",
   "execution_count": 15,
   "id": "d8a36ead",
   "metadata": {},
   "outputs": [
    {
     "data": {
      "text/plain": [
       "<AxesSubplot:ylabel='Fire Alarm'>"
      ]
     },
     "execution_count": 15,
     "metadata": {},
     "output_type": "execute_result"
    },
    {
     "data": {
      "image/png": "[encoded data removed]",
      "text/plain": [
       "<Figure size 1080x360 with 1 Axes>"
      ]
     },
     "metadata": {},
     "output_type": "display_data"
    }
   ],
   "source": [
    "fig = plt.figure(figsize = (15,5))\n",
    "\n",
    "df['Fire Alarm'].value_counts().plot(kind ='pie',autopct = '%.2f', shadow=True)"
   ]
  },
  {
   "cell_type": "markdown",
   "id": "c051a9ae",
   "metadata": {},
   "source": [
    "# 1. UTC"
   ]
  },
  {
   "cell_type": "code",
   "execution_count": 16,
   "id": "e72b6fa2",
   "metadata": {},
   "outputs": [
    {
     "name": "stdout",
     "output_type": "stream",
     "text": [
      "Mean :\n",
      "1654764997.4949617 when there is fire\n",
      "1654859850.7379286 when there is no fire\n",
      "Median :\n",
      "1654765081.0 when there is fire\n",
      "1654761359.0 when there is no fire\n"
     ]
    }
   ],
   "source": [
    "# Mean\n",
    "print (\"Mean :\")\n",
    "print((np.mean(Fire['UTC'])),\"when there is fire\")\n",
    "print((np.mean(No_fire['UTC'])),\"when there is no fire\")\n",
    "# Median\n",
    "print (\"Median :\")\n",
    "print((np.median(Fire['UTC'])),\"when there is fire\")\n",
    "print((np.median(No_fire['UTC'])),\"when there is no fire\")"
   ]
  },
  {
   "cell_type": "markdown",
   "id": "a670af32",
   "metadata": {},
   "source": [
    "# 2. Temperature "
   ]
  },
  {
   "cell_type": "code",
   "execution_count": 17,
   "id": "088c51b5",
   "metadata": {},
   "outputs": [
    {
     "name": "stdout",
     "output_type": "stream",
     "text": [
      "Mean :\n",
      "14.483151551712472 when there is fire\n",
      "19.694803054887505 when there is no fire\n",
      "Median :\n",
      "20.02 when there is fire\n",
      "20.54 when there is no fire\n"
     ]
    }
   ],
   "source": [
    "# Mean\n",
    "print (\"Mean :\")\n",
    "print((np.mean(Fire['Temperature[C]'])),\"when there is fire\")\n",
    "print((np.mean(No_fire['Temperature[C]'])),\"when there is no fire\")\n",
    "# Median\n",
    "print (\"Median :\")\n",
    "print((np.median(Fire['Temperature[C]'])),\"when there is fire\")\n",
    "print((np.median(No_fire['Temperature[C]'])),\"when there is no fire\")"
   ]
  },
  {
   "cell_type": "markdown",
   "id": "ec6db092",
   "metadata": {},
   "source": [
    "# 3. Humidity[%]\n"
   ]
  },
  {
   "cell_type": "code",
   "execution_count": 18,
   "id": "05d83588",
   "metadata": {},
   "outputs": [
    {
     "name": "stdout",
     "output_type": "stream",
     "text": [
      "Mean :\n",
      "50.77953370422544 when there is fire\n",
      "42.93007665193305 when there is no fire\n",
      "Median :\n",
      "51.4 when there is fire\n",
      "46.14 when there is no fire\n"
     ]
    }
   ],
   "source": [
    "# Mean\n",
    "print (\"Mean :\")\n",
    "print((np.mean(Fire['Humidity[%]'])),\"when there is fire\")\n",
    "print((np.mean(No_fire['Humidity[%]'])),\"when there is no fire\")\n",
    "# Median\n",
    "print (\"Median :\")\n",
    "print((np.median(Fire['Humidity[%]'])),\"when there is fire\")\n",
    "print((np.median(No_fire['Humidity[%]'])),\"when there is no fire\")"
   ]
  },
  {
   "cell_type": "markdown",
   "id": "b920902a",
   "metadata": {},
   "source": [
    "# 4. TVOC[ppb]"
   ]
  },
  {
   "cell_type": "code",
   "execution_count": 19,
   "id": "e4537b38",
   "metadata": {},
   "outputs": [
    {
     "name": "stdout",
     "output_type": "stream",
     "text": [
      "Mean :\n",
      "882.0130705811381 when there is fire\n",
      "4596.587254517988 when there is no fire\n",
      "Median :\n",
      "1103.0 when there is fire\n",
      "86.0 when there is no fire\n"
     ]
    }
   ],
   "source": [
    "# Mean\n",
    "print (\"Mean :\")\n",
    "print((np.mean(Fire['TVOC[ppb]'])),\"when there is fire\")\n",
    "print((np.mean(No_fire['TVOC[ppb]'])),\"when there is no fire\")\n",
    "# Median\n",
    "print (\"Median :\")\n",
    "print((np.median(Fire['TVOC[ppb]'])),\"when there is fire\")\n",
    "print((np.median(No_fire['TVOC[ppb]'])),\"when there is no fire\")"
   ]
  },
  {
   "cell_type": "markdown",
   "id": "261dd520",
   "metadata": {},
   "source": [
    "# 5. eCO2[ppm]"
   ]
  },
  {
   "cell_type": "code",
   "execution_count": 20,
   "id": "11d3ab1a",
   "metadata": {},
   "outputs": [
    {
     "name": "stdout",
     "output_type": "stream",
     "text": [
      "Mean :\n",
      "553.18935585495 when there is fire\n",
      "962.5872545179881 when there is no fire\n",
      "Median :\n",
      "404.0 when there is fire\n",
      "400.0 when there is no fire\n"
     ]
    }
   ],
   "source": [
    "# Mean\n",
    "print (\"Mean :\")\n",
    "print((np.mean(Fire['eCO2[ppm]'])),\"when there is fire\")\n",
    "print((np.mean(No_fire['eCO2[ppm]'])),\"when there is no fire\")\n",
    "# Median\n",
    "print (\"Median :\")\n",
    "print((np.median(Fire['eCO2[ppm]'])),\"when there is fire\")\n",
    "print((np.median(No_fire['eCO2[ppm]'])),\"when there is no fire\")"
   ]
  },
  {
   "cell_type": "markdown",
   "id": "442f8a35",
   "metadata": {},
   "source": [
    "# 6. Raw H2"
   ]
  },
  {
   "cell_type": "code",
   "execution_count": 21,
   "id": "73454be6",
   "metadata": {},
   "outputs": [
    {
     "name": "stdout",
     "output_type": "stream",
     "text": [
      "Mean :\n",
      "12960.878052595124 when there is fire\n",
      "12896.316846640184 when there is no fire\n",
      "Median :\n",
      "12933.0 when there is fire\n",
      "12837.0 when there is no fire\n"
     ]
    }
   ],
   "source": [
    "# Mean\n",
    "print (\"Mean :\")\n",
    "print((np.mean(Fire['Raw H2'])),\"when there is fire\")\n",
    "print((np.mean(No_fire['Raw H2'])),\"when there is no fire\")\n",
    "# Median\n",
    "print (\"Median :\")\n",
    "print((np.median(Fire['Raw H2'])),\"when there is fire\")\n",
    "print((np.median(No_fire['Raw H2'])),\"when there is no fire\")"
   ]
  },
  {
   "cell_type": "markdown",
   "id": "f673a75c",
   "metadata": {},
   "source": [
    "# 7. Raw Ethanol"
   ]
  },
  {
   "cell_type": "code",
   "execution_count": 22,
   "id": "2c8c7966",
   "metadata": {},
   "outputs": [
    {
     "name": "stdout",
     "output_type": "stream",
     "text": [
      "Mean :\n",
      "19623.050427866034 when there is fire\n",
      "20082.82353270296 when there is no fire\n",
      "Median :\n",
      "19454.0 when there is fire\n",
      "20158.0 when there is no fire\n"
     ]
    }
   ],
   "source": [
    "# Mean\n",
    "print (\"Mean :\")\n",
    "print((np.mean(Fire['Raw Ethanol'])),\"when there is fire\")\n",
    "print((np.mean(No_fire['Raw Ethanol'])),\"when there is no fire\")\n",
    "# Median\n",
    "print (\"Median :\")\n",
    "print((np.median(Fire['Raw Ethanol'])),\"when there is fire\")\n",
    "print((np.median(No_fire['Raw Ethanol'])),\"when there is no fire\")"
   ]
  },
  {
   "cell_type": "markdown",
   "id": "ce4280b6",
   "metadata": {},
   "source": [
    "# 8. Pressure[hPa]"
   ]
  },
  {
   "cell_type": "code",
   "execution_count": 23,
   "id": "201ec6f1",
   "metadata": {},
   "outputs": [
    {
     "name": "stdout",
     "output_type": "stream",
     "text": [
      "Mean :\n",
      "938.8378055723172 when there is fire\n",
      "938.1013832037153 when there is no fire\n",
      "Median :\n",
      "938.878 when there is fire\n",
      "937.478 when there is no fire\n"
     ]
    }
   ],
   "source": [
    "# Mean\n",
    "print (\"Mean :\")\n",
    "print((np.mean(Fire['Pressure[hPa]'])),\"when there is fire\")\n",
    "print((np.mean(No_fire['Pressure[hPa]'])),\"when there is no fire\")\n",
    "# Median\n",
    "print (\"Median :\")\n",
    "print((np.median(Fire['Pressure[hPa]'])),\"when there is fire\")\n",
    "print((np.median(No_fire['Pressure[hPa]'])),\"when there is no fire\")"
   ]
  },
  {
   "cell_type": "markdown",
   "id": "0338d5da",
   "metadata": {},
   "source": [
    "# 9. PM1.0"
   ]
  },
  {
   "cell_type": "code",
   "execution_count": 24,
   "id": "6de2c328",
   "metadata": {},
   "outputs": [
    {
     "name": "stdout",
     "output_type": "stream",
     "text": [
      "Mean :\n",
      "36.14640570190133 when there is fire\n",
      "261.9827057572892 when there is no fire\n",
      "Median :\n",
      "1.87 when there is fire\n",
      "1.45 when there is no fire\n"
     ]
    }
   ],
   "source": [
    "# Mean\n",
    "print (\"Mean :\")\n",
    "print((np.mean(Fire['PM1.0'])),\"when there is fire\")\n",
    "print((np.mean(No_fire['PM1.0'])),\"when there is no fire\")\n",
    "# Median\n",
    "print (\"Median :\")\n",
    "print((np.median(Fire['PM1.0'])),\"when there is fire\")\n",
    "print((np.median(No_fire['PM1.0'])),\"when there is no fire\")"
   ]
  },
  {
   "cell_type": "markdown",
   "id": "6346f1f3",
   "metadata": {},
   "source": [
    "# 10. PM2.5"
   ]
  },
  {
   "cell_type": "code",
   "execution_count": 25,
   "id": "f57d08ed",
   "metadata": {},
   "outputs": [
    {
     "name": "stdout",
     "output_type": "stream",
     "text": [
      "Mean :\n",
      "78.41784190182555 when there is fire\n",
      "450.03463884070914 when there is no fire\n",
      "Median :\n",
      "1.94 when there is fire\n",
      "1.52 when there is no fire\n"
     ]
    }
   ],
   "source": [
    "# Mean\n",
    "print (\"Mean :\")\n",
    "print((np.mean(Fire['PM2.5'])),\"when there is fire\")\n",
    "print((np.mean(No_fire['PM2.5'])),\"when there is no fire\")\n",
    "# Median\n",
    "print (\"Median :\")\n",
    "print((np.median(Fire['PM2.5'])),\"when there is fire\")\n",
    "print((np.median(No_fire['PM2.5'])),\"when there is no fire\")"
   ]
  },
  {
   "cell_type": "markdown",
   "id": "fe5b88b3",
   "metadata": {},
   "source": [
    "# 11. NC0.5"
   ]
  },
  {
   "cell_type": "code",
   "execution_count": 26,
   "id": "7a39055d",
   "metadata": {},
   "outputs": [
    {
     "name": "stdout",
     "output_type": "stream",
     "text": [
      "Mean :\n",
      "146.11133699756448 when there is fire\n",
      "1356.28381581156 when there is no fire\n",
      "Median :\n",
      "12.86 when there is fire\n",
      "9.97 when there is no fire\n"
     ]
    }
   ],
   "source": [
    "# Mean\n",
    "print (\"Mean :\")\n",
    "print((np.mean(Fire['NC0.5'])),\"when there is fire\")\n",
    "print((np.mean(No_fire['NC0.5'])),\"when there is no fire\")\n",
    "# Median\n",
    "print (\"Median :\")\n",
    "print((np.median(Fire['NC0.5'])),\"when there is fire\")\n",
    "print((np.median(No_fire['NC0.5'])),\"when there is no fire\")"
   ]
  },
  {
   "cell_type": "markdown",
   "id": "507451a3",
   "metadata": {},
   "source": [
    "# 12. NC1.0"
   ]
  },
  {
   "cell_type": "code",
   "execution_count": 27,
   "id": "7ba5f237",
   "metadata": {},
   "outputs": [
    {
     "name": "stdout",
     "output_type": "stream",
     "text": [
      "Mean :\n",
      "87.66554912080782 when there is fire\n",
      "493.8720265204505 when there is no fire\n",
      "Median :\n",
      "2.005 when there is fire\n",
      "1.578 when there is no fire\n"
     ]
    }
   ],
   "source": [
    "# Mean\n",
    "print (\"Mean :\")\n",
    "print((np.mean(Fire['NC1.0'])),\"when there is fire\")\n",
    "print((np.mean(No_fire['NC1.0'])),\"when there is no fire\")\n",
    "# Median\n",
    "print (\"Median :\")\n",
    "print((np.median(Fire['NC1.0'])),\"when there is fire\")\n",
    "print((np.median(No_fire['NC1.0'])),\"when there is no fire\")"
   ]
  },
  {
   "cell_type": "markdown",
   "id": "c898de47",
   "metadata": {},
   "source": [
    "# 13. NC2.5"
   ]
  },
  {
   "cell_type": "code",
   "execution_count": 28,
   "id": "3ec6d8fc",
   "metadata": {},
   "outputs": [
    {
     "name": "stdout",
     "output_type": "stream",
     "text": [
      "Mean :\n",
      "40.54162723149459 when there is fire\n",
      "178.982258770214 when there is no fire\n",
      "Median :\n",
      "0.045 when there is fire\n",
      "0.039 when there is no fire\n"
     ]
    }
   ],
   "source": [
    "# Mean\n",
    "print (\"Mean :\")\n",
    "print((np.mean(Fire['NC2.5'])),\"when there is fire\")\n",
    "print((np.mean(No_fire['NC2.5'])),\"when there is no fire\")\n",
    "# Median\n",
    "print (\"Median :\")\n",
    "print((np.median(Fire['NC2.5'])),\"when there is fire\")\n",
    "print((np.median(No_fire['NC2.5'])),\"when there is no fire\")"
   ]
  },
  {
   "cell_type": "markdown",
   "id": "ca5c9aa5",
   "metadata": {},
   "source": [
    "# 14. CNT"
   ]
  },
  {
   "cell_type": "code",
   "execution_count": 29,
   "id": "ae08ae2e",
   "metadata": {},
   "outputs": [
    {
     "name": "stdout",
     "output_type": "stream",
     "text": [
      "Mean :\n",
      "13746.30343856827 when there is fire\n",
      "2410.60885134001 when there is no fire\n",
      "Median :\n",
      "13804.0 when there is fire\n",
      "2226.0 when there is no fire\n"
     ]
    }
   ],
   "source": [
    "# Mean\n",
    "print (\"Mean :\")\n",
    "print((np.mean(Fire['CNT'])),\"when there is fire\")\n",
    "print((np.mean(No_fire['CNT'])),\"when there is no fire\")\n",
    "# Median\n",
    "print (\"Median :\")\n",
    "print((np.median(Fire['CNT'])),\"when there is fire\")\n",
    "print((np.median(No_fire['CNT'])),\"when there is no fire\")"
   ]
  },
  {
   "cell_type": "code",
   "execution_count": 30,
   "id": "e4d9f456",
   "metadata": {},
   "outputs": [
    {
     "name": "stdout",
     "output_type": "stream",
     "text": [
      "+-----------------+---------------+---------------+----------------+------------------+\n",
      "|     FEATURES    |  MEAN (Fire)  | MEDIAN (Fire) | MEAN (No_Fire) | MEDIAN (No_Fire) |\n",
      "+-----------------+---------------+---------------+----------------+------------------+\n",
      "|       UTC       | 1654764997.49 |  1654765081.0 | 1654859850.73  |   1654761359.0   |\n",
      "|  Temperature[C] |      14.48    |     20.02     |     19.69      |      20.54       |\n",
      "|   Humidity[%]   |     50.77     |      51.4     |     42.93      |      46.14       |\n",
      "|    TVOC[ppb]    |     882.01    |     1103.0    |    4596.58     |       86.0       |\n",
      "|    eCO2[ppm]    |     553.18    |     404.0     |     962.58     |      400.0       |\n",
      "|      Raw H2     |    12960.87   |    12933.0    |    12896.31    |     12837.0      |\n",
      "|   Raw Ethanol   |    19623.05   |    19454.0    |    20082.82    |     20158.0      |\n",
      "|  Pressure[hPa]  |     938.83    |     938.87    |     938.10     |      937.47      |\n",
      "|      PM1.0      |     36.14     |      1.87     |     261.98     |       1.45       |\n",
      "|      PM2.5      |     78.41     |      1.94     |     450.03     |       1.52       |\n",
      "|      NC0.5      |     146.11    |     12.86     |    1356.28     |       9.97       |\n",
      "|      NC1.0      |     553.18    |     404.0     |     962.58     |      400.0       |\n",
      "|      NC2.5      |     87.66     |      2.0      |     493.87     |       1.57       |\n",
      "|       CNT       |    13746.30   |    13804.0    |    2410.60     |      2226.0      |\n",
      "+-----------------+---------------+---------------+----------------+------------------+\n"
     ]
    }
   ],
   "source": [
    "from prettytable import PrettyTable\n",
    "myTable = PrettyTable([\"FEATURES\", \"MEAN (Fire)\",\"MEDIAN (Fire)\",\"MEAN (No_Fire)\",\"MEDIAN (No_Fire)\"])\n",
    "myTable.add_rows([[\"UTC\", \"1654764997.49\", \"1654765081.0\", \"1654859850.73\", \"1654761359.0\"], \n",
    "                  [\" Temperature[C]\",\" 14.48\",\"20.02\", \"19.69\", \"20.54\"],\n",
    "                  [\"Humidity[%]\",\"50.77\",\"51.4\", \"42.93\",\"46.14\"], \n",
    "                  [\"TVOC[ppb]\",\"882.01\",\"1103.0\", \"4596.58\",\"86.0\"], \n",
    "                  [\"eCO2[ppm]\",\"553.18\",\"404.0\", \"962.58\",\"400.0\"],\n",
    "                  [\"Raw H2\",\"12960.87\",\"12933.0\", \"12896.31\",\"12837.0\"],\n",
    "                  [\"Raw Ethanol\",\"19623.05\",\"19454.0\", \"20082.82\",\"20158.0\"],\n",
    "                  [\"Pressure[hPa]\",\"938.83\",\"938.87\", \"938.10\",\"937.47\"],\n",
    "                  [\"PM1.0\",\"36.14\",\"1.87\", \"261.98\",\"1.45\"],\n",
    "                  [\"PM2.5\",\"78.41\",\"1.94\", \"450.03\",\"1.52\"],\n",
    "                  [\"NC0.5\",\"146.11\",\"12.86\", \"1356.28\",\"9.97\"],\n",
    "                  [\"NC1.0\",\"553.18\",\"404.0\", \"962.58\",\"400.0\"],\n",
    "                  [\"NC2.5\",\"87.66\",\"2.0\", \"493.87\",\"1.57\"],\n",
    "                  [\"CNT\",\"13746.30\",\"13804.0\", \"2410.60\",\"2226.0\"]])\n",
    "\n",
    "\n",
    "print(myTable)"
   ]
  },
  {
   "cell_type": "markdown",
   "id": "03f0cd6a",
   "metadata": {},
   "source": [
    "# Observation"
   ]
  },
  {
   "cell_type": "markdown",
   "id": "4cf49773",
   "metadata": {},
   "source": [
    "* Features such as 'UTC,' 'Raw H2,' 'Raw Ethanol,' 'Pressure,' 'Humidity,' and 'CNT' exhibit nearly identical mean and median values for both Fire and No fire, indicating that there are very few outliers.\n",
    "\n",
    "* However, features such as 'Temperature,' 'TVOC,' 'eCO2,' 'PM1.0,' 'PM2.5,' 'NC0.5,' 'NC1.0,' and 'NC2.5' possess extremely varying mean and median values, showing that these features contain lots of outliers."
   ]
  },
  {
   "cell_type": "markdown",
   "id": "792a87e1",
   "metadata": {},
   "source": [
    "# Correlation Matrix"
   ]
  },
  {
   "cell_type": "code",
   "execution_count": 31,
   "id": "93cc26d1",
   "metadata": {},
   "outputs": [
    {
     "data": {
      "text/html": [
       "<style type=\"text/css\">\n",
       "#T_3e793_row0_col0, #T_3e793_row1_col1, #T_3e793_row2_col2, #T_3e793_row3_col3, #T_3e793_row4_col4, #T_3e793_row5_col5, #T_3e793_row6_col6, #T_3e793_row7_col7, #T_3e793_row8_col8, #T_3e793_row9_col9, #T_3e793_row9_col11, #T_3e793_row10_col10, #T_3e793_row11_col9, #T_3e793_row11_col11, #T_3e793_row12_col12, #T_3e793_row13_col13, #T_3e793_row14_col14 {\n",
       "  background-color: #b40426;\n",
       "  color: #f1f1f1;\n",
       "}\n",
       "#T_3e793_row0_col1, #T_3e793_row14_col1 {\n",
       "  background-color: #4f69d9;\n",
       "  color: #f1f1f1;\n",
       "}\n",
       "#T_3e793_row0_col2 {\n",
       "  background-color: #4e68d8;\n",
       "  color: #f1f1f1;\n",
       "}\n",
       "#T_3e793_row0_col3 {\n",
       "  background-color: #dfdbd9;\n",
       "  color: #000000;\n",
       "}\n",
       "#T_3e793_row0_col4 {\n",
       "  background-color: #d8dce2;\n",
       "  color: #000000;\n",
       "}\n",
       "#T_3e793_row0_col5 {\n",
       "  background-color: #a3c2fe;\n",
       "  color: #000000;\n",
       "}\n",
       "#T_3e793_row0_col6, #T_3e793_row3_col12 {\n",
       "  background-color: #dddcdc;\n",
       "  color: #000000;\n",
       "}\n",
       "#T_3e793_row0_col7, #T_3e793_row0_col14, #T_3e793_row3_col2, #T_3e793_row3_col6, #T_3e793_row4_col5, #T_3e793_row5_col4, #T_3e793_row5_col8, #T_3e793_row5_col9, #T_3e793_row5_col10, #T_3e793_row5_col11, #T_3e793_row5_col12, #T_3e793_row6_col3, #T_3e793_row6_col13, #T_3e793_row7_col0, #T_3e793_row7_col1 {\n",
       "  background-color: #3b4cc0;\n",
       "  color: #f1f1f1;\n",
       "}\n",
       "#T_3e793_row0_col8, #T_3e793_row3_col0 {\n",
       "  background-color: #c9d7f0;\n",
       "  color: #000000;\n",
       "}\n",
       "#T_3e793_row0_col9, #T_3e793_row1_col8, #T_3e793_row6_col2 {\n",
       "  background-color: #b7cff9;\n",
       "  color: #000000;\n",
       "}\n",
       "#T_3e793_row0_col10, #T_3e793_row1_col3, #T_3e793_row1_col4 {\n",
       "  background-color: #cfdaea;\n",
       "  color: #000000;\n",
       "}\n",
       "#T_3e793_row0_col11, #T_3e793_row13_col3 {\n",
       "  background-color: #b6cefa;\n",
       "  color: #000000;\n",
       "}\n",
       "#T_3e793_row0_col12 {\n",
       "  background-color: #a1c0ff;\n",
       "  color: #000000;\n",
       "}\n",
       "#T_3e793_row0_col13, #T_3e793_row2_col11, #T_3e793_row11_col6 {\n",
       "  background-color: #7295f4;\n",
       "  color: #f1f1f1;\n",
       "}\n",
       "#T_3e793_row1_col0, #T_3e793_row10_col14, #T_3e793_row13_col12 {\n",
       "  background-color: #779af7;\n",
       "  color: #f1f1f1;\n",
       "}\n",
       "#T_3e793_row1_col2, #T_3e793_row9_col6 {\n",
       "  background-color: #6f92f3;\n",
       "  color: #f1f1f1;\n",
       "}\n",
       "#T_3e793_row1_col5 {\n",
       "  background-color: #a7c5fe;\n",
       "  color: #000000;\n",
       "}\n",
       "#T_3e793_row1_col6 {\n",
       "  background-color: #bad0f8;\n",
       "  color: #000000;\n",
       "}\n",
       "#T_3e793_row1_col7, #T_3e793_row3_col14, #T_3e793_row7_col11, #T_3e793_row13_col0 {\n",
       "  background-color: #6282ea;\n",
       "  color: #f1f1f1;\n",
       "}\n",
       "#T_3e793_row1_col9 {\n",
       "  background-color: #a6c4fe;\n",
       "  color: #000000;\n",
       "}\n",
       "#T_3e793_row1_col10, #T_3e793_row4_col0 {\n",
       "  background-color: #bfd3f6;\n",
       "  color: #000000;\n",
       "}\n",
       "#T_3e793_row1_col11, #T_3e793_row5_col13 {\n",
       "  background-color: #a5c3fe;\n",
       "  color: #000000;\n",
       "}\n",
       "#T_3e793_row1_col12 {\n",
       "  background-color: #90b2fe;\n",
       "  color: #000000;\n",
       "}\n",
       "#T_3e793_row1_col13 {\n",
       "  background-color: #97b8ff;\n",
       "  color: #000000;\n",
       "}\n",
       "#T_3e793_row1_col14 {\n",
       "  background-color: #6e90f2;\n",
       "  color: #f1f1f1;\n",
       "}\n",
       "#T_3e793_row2_col0 {\n",
       "  background-color: #4358cb;\n",
       "  color: #f1f1f1;\n",
       "}\n",
       "#T_3e793_row2_col1 {\n",
       "  background-color: #3c4ec2;\n",
       "  color: #f1f1f1;\n",
       "}\n",
       "#T_3e793_row2_col3 {\n",
       "  background-color: #5d7ce6;\n",
       "  color: #f1f1f1;\n",
       "}\n",
       "#T_3e793_row2_col4 {\n",
       "  background-color: #7699f6;\n",
       "  color: #f1f1f1;\n",
       "}\n",
       "#T_3e793_row2_col5 {\n",
       "  background-color: #ead5c9;\n",
       "  color: #000000;\n",
       "}\n",
       "#T_3e793_row2_col6 {\n",
       "  background-color: #cdd9ec;\n",
       "  color: #000000;\n",
       "}\n",
       "#T_3e793_row2_col7 {\n",
       "  background-color: #f08a6c;\n",
       "  color: #f1f1f1;\n",
       "}\n",
       "#T_3e793_row2_col8 {\n",
       "  background-color: #799cf8;\n",
       "  color: #f1f1f1;\n",
       "}\n",
       "#T_3e793_row2_col9, #T_3e793_row7_col8 {\n",
       "  background-color: #7396f5;\n",
       "  color: #f1f1f1;\n",
       "}\n",
       "#T_3e793_row2_col10, #T_3e793_row5_col0, #T_3e793_row14_col6, #T_3e793_row14_col12 {\n",
       "  background-color: #7a9df8;\n",
       "  color: #f1f1f1;\n",
       "}\n",
       "#T_3e793_row2_col12, #T_3e793_row3_col7, #T_3e793_row9_col5 {\n",
       "  background-color: #6a8bef;\n",
       "  color: #f1f1f1;\n",
       "}\n",
       "#T_3e793_row2_col13 {\n",
       "  background-color: #dedcdb;\n",
       "  color: #000000;\n",
       "}\n",
       "#T_3e793_row2_col14 {\n",
       "  background-color: #edd2c3;\n",
       "  color: #000000;\n",
       "}\n",
       "#T_3e793_row3_col1, #T_3e793_row4_col13 {\n",
       "  background-color: #93b5fe;\n",
       "  color: #000000;\n",
       "}\n",
       "#T_3e793_row3_col4 {\n",
       "  background-color: #f29274;\n",
       "  color: #f1f1f1;\n",
       "}\n",
       "#T_3e793_row3_col5, #T_3e793_row6_col12 {\n",
       "  background-color: #3f53c6;\n",
       "  color: #f1f1f1;\n",
       "}\n",
       "#T_3e793_row3_col8 {\n",
       "  background-color: #f59f80;\n",
       "  color: #000000;\n",
       "}\n",
       "#T_3e793_row3_col9 {\n",
       "  background-color: #f5c1a9;\n",
       "  color: #000000;\n",
       "}\n",
       "#T_3e793_row3_col10 {\n",
       "  background-color: #ef886b;\n",
       "  color: #f1f1f1;\n",
       "}\n",
       "#T_3e793_row3_col11 {\n",
       "  background-color: #f5c4ac;\n",
       "  color: #000000;\n",
       "}\n",
       "#T_3e793_row3_col13 {\n",
       "  background-color: #9ebeff;\n",
       "  color: #000000;\n",
       "}\n",
       "#T_3e793_row4_col1 {\n",
       "  background-color: #92b4fe;\n",
       "  color: #000000;\n",
       "}\n",
       "#T_3e793_row4_col2, #T_3e793_row7_col12 {\n",
       "  background-color: #536edd;\n",
       "  color: #f1f1f1;\n",
       "}\n",
       "#T_3e793_row4_col3, #T_3e793_row12_col10, #T_3e793_row13_col14 {\n",
       "  background-color: #f39475;\n",
       "  color: #000000;\n",
       "}\n",
       "#T_3e793_row4_col6 {\n",
       "  background-color: #5977e3;\n",
       "  color: #f1f1f1;\n",
       "}\n",
       "#T_3e793_row4_col7 {\n",
       "  background-color: #516ddb;\n",
       "  color: #f1f1f1;\n",
       "}\n",
       "#T_3e793_row4_col8, #T_3e793_row14_col13 {\n",
       "  background-color: #f08b6e;\n",
       "  color: #f1f1f1;\n",
       "}\n",
       "#T_3e793_row4_col9 {\n",
       "  background-color: #f7ac8e;\n",
       "  color: #000000;\n",
       "}\n",
       "#T_3e793_row4_col10 {\n",
       "  background-color: #ec7f63;\n",
       "  color: #f1f1f1;\n",
       "}\n",
       "#T_3e793_row4_col11 {\n",
       "  background-color: #f7af91;\n",
       "  color: #000000;\n",
       "}\n",
       "#T_3e793_row4_col12 {\n",
       "  background-color: #f0cdbb;\n",
       "  color: #000000;\n",
       "}\n",
       "#T_3e793_row4_col14, #T_3e793_row9_col2 {\n",
       "  background-color: #7ea1fa;\n",
       "  color: #f1f1f1;\n",
       "}\n",
       "#T_3e793_row5_col1, #T_3e793_row8_col5 {\n",
       "  background-color: #5673e0;\n",
       "  color: #f1f1f1;\n",
       "}\n",
       "#T_3e793_row5_col2 {\n",
       "  background-color: #dbdcde;\n",
       "  color: #000000;\n",
       "}\n",
       "#T_3e793_row5_col3 {\n",
       "  background-color: #3e51c5;\n",
       "  color: #f1f1f1;\n",
       "}\n",
       "#T_3e793_row5_col6, #T_3e793_row6_col5 {\n",
       "  background-color: #f18d6f;\n",
       "  color: #f1f1f1;\n",
       "}\n",
       "#T_3e793_row5_col7 {\n",
       "  background-color: #e0dbd8;\n",
       "  color: #000000;\n",
       "}\n",
       "#T_3e793_row5_col14, #T_3e793_row7_col6 {\n",
       "  background-color: #b2ccfb;\n",
       "  color: #000000;\n",
       "}\n",
       "#T_3e793_row6_col0 {\n",
       "  background-color: #c6d6f1;\n",
       "  color: #000000;\n",
       "}\n",
       "#T_3e793_row6_col1, #T_3e793_row8_col2 {\n",
       "  background-color: #7093f3;\n",
       "  color: #f1f1f1;\n",
       "}\n",
       "#T_3e793_row6_col4 {\n",
       "  background-color: #5a78e4;\n",
       "  color: #f1f1f1;\n",
       "}\n",
       "#T_3e793_row6_col7, #T_3e793_row12_col2 {\n",
       "  background-color: #8caffe;\n",
       "  color: #000000;\n",
       "}\n",
       "#T_3e793_row6_col8, #T_3e793_row6_col14, #T_3e793_row14_col0 {\n",
       "  background-color: #445acc;\n",
       "  color: #f1f1f1;\n",
       "}\n",
       "#T_3e793_row6_col9, #T_3e793_row6_col11 {\n",
       "  background-color: #4257c9;\n",
       "  color: #f1f1f1;\n",
       "}\n",
       "#T_3e793_row6_col10 {\n",
       "  background-color: #455cce;\n",
       "  color: #f1f1f1;\n",
       "}\n",
       "#T_3e793_row7_col2 {\n",
       "  background-color: #ee8669;\n",
       "  color: #f1f1f1;\n",
       "}\n",
       "#T_3e793_row7_col3 {\n",
       "  background-color: #94b6ff;\n",
       "  color: #000000;\n",
       "}\n",
       "#T_3e793_row7_col4, #T_3e793_row7_col10, #T_3e793_row11_col2 {\n",
       "  background-color: #80a3fa;\n",
       "  color: #f1f1f1;\n",
       "}\n",
       "#T_3e793_row7_col5 {\n",
       "  background-color: #efcebd;\n",
       "  color: #000000;\n",
       "}\n",
       "#T_3e793_row7_col9, #T_3e793_row10_col7, #T_3e793_row13_col1 {\n",
       "  background-color: #6384eb;\n",
       "  color: #f1f1f1;\n",
       "}\n",
       "#T_3e793_row7_col13 {\n",
       "  background-color: #d3dbe7;\n",
       "  color: #000000;\n",
       "}\n",
       "#T_3e793_row7_col14 {\n",
       "  background-color: #d2dbe8;\n",
       "  color: #000000;\n",
       "}\n",
       "#T_3e793_row8_col0, #T_3e793_row13_col5 {\n",
       "  background-color: #bcd2f7;\n",
       "  color: #000000;\n",
       "}\n",
       "#T_3e793_row8_col1, #T_3e793_row10_col1 {\n",
       "  background-color: #86a9fc;\n",
       "  color: #f1f1f1;\n",
       "}\n",
       "#T_3e793_row8_col3 {\n",
       "  background-color: #f39577;\n",
       "  color: #000000;\n",
       "}\n",
       "#T_3e793_row8_col4, #T_3e793_row10_col3 {\n",
       "  background-color: #ed8366;\n",
       "  color: #f1f1f1;\n",
       "}\n",
       "#T_3e793_row8_col6 {\n",
       "  background-color: #5e7de7;\n",
       "  color: #f1f1f1;\n",
       "}\n",
       "#T_3e793_row8_col7 {\n",
       "  background-color: #6180e9;\n",
       "  color: #f1f1f1;\n",
       "}\n",
       "#T_3e793_row8_col9, #T_3e793_row9_col8 {\n",
       "  background-color: #be242e;\n",
       "  color: #f1f1f1;\n",
       "}\n",
       "#T_3e793_row8_col10, #T_3e793_row8_col11 {\n",
       "  background-color: #c12b30;\n",
       "  color: #f1f1f1;\n",
       "}\n",
       "#T_3e793_row8_col12 {\n",
       "  background-color: #d95847;\n",
       "  color: #f1f1f1;\n",
       "}\n",
       "#T_3e793_row8_col13, #T_3e793_row10_col13, #T_3e793_row14_col3, #T_3e793_row14_col8 {\n",
       "  background-color: #96b7ff;\n",
       "  color: #000000;\n",
       "}\n",
       "#T_3e793_row8_col14 {\n",
       "  background-color: #7b9ff9;\n",
       "  color: #f1f1f1;\n",
       "}\n",
       "#T_3e793_row9_col0, #T_3e793_row11_col0 {\n",
       "  background-color: #b9d0f9;\n",
       "  color: #000000;\n",
       "}\n",
       "#T_3e793_row9_col1, #T_3e793_row11_col1 {\n",
       "  background-color: #84a7fc;\n",
       "  color: #f1f1f1;\n",
       "}\n",
       "#T_3e793_row9_col3 {\n",
       "  background-color: #f7b093;\n",
       "  color: #000000;\n",
       "}\n",
       "#T_3e793_row9_col4 {\n",
       "  background-color: #f59c7d;\n",
       "  color: #000000;\n",
       "}\n",
       "#T_3e793_row9_col7, #T_3e793_row11_col7 {\n",
       "  background-color: #6485ec;\n",
       "  color: #f1f1f1;\n",
       "}\n",
       "#T_3e793_row9_col10 {\n",
       "  background-color: #de614d;\n",
       "  color: #f1f1f1;\n",
       "}\n",
       "#T_3e793_row9_col12, #T_3e793_row12_col9 {\n",
       "  background-color: #bb1b2c;\n",
       "  color: #f1f1f1;\n",
       "}\n",
       "#T_3e793_row9_col13, #T_3e793_row11_col13 {\n",
       "  background-color: #98b9ff;\n",
       "  color: #000000;\n",
       "}\n",
       "#T_3e793_row9_col14, #T_3e793_row11_col14, #T_3e793_row12_col1 {\n",
       "  background-color: #82a6fb;\n",
       "  color: #f1f1f1;\n",
       "}\n",
       "#T_3e793_row10_col0 {\n",
       "  background-color: #bed2f6;\n",
       "  color: #000000;\n",
       "}\n",
       "#T_3e793_row10_col2 {\n",
       "  background-color: #6788ee;\n",
       "  color: #f1f1f1;\n",
       "}\n",
       "#T_3e793_row10_col4 {\n",
       "  background-color: #e97a5f;\n",
       "  color: #f1f1f1;\n",
       "}\n",
       "#T_3e793_row10_col5 {\n",
       "  background-color: #4b64d5;\n",
       "  color: #f1f1f1;\n",
       "}\n",
       "#T_3e793_row10_col6 {\n",
       "  background-color: #5572df;\n",
       "  color: #f1f1f1;\n",
       "}\n",
       "#T_3e793_row10_col8 {\n",
       "  background-color: #c32e31;\n",
       "  color: #f1f1f1;\n",
       "}\n",
       "#T_3e793_row10_col9 {\n",
       "  background-color: #e16751;\n",
       "  color: #f1f1f1;\n",
       "}\n",
       "#T_3e793_row10_col11 {\n",
       "  background-color: #e36c55;\n",
       "  color: #f1f1f1;\n",
       "}\n",
       "#T_3e793_row10_col12 {\n",
       "  background-color: #f7a688;\n",
       "  color: #000000;\n",
       "}\n",
       "#T_3e793_row11_col3 {\n",
       "  background-color: #f7b396;\n",
       "  color: #000000;\n",
       "}\n",
       "#T_3e793_row11_col4 {\n",
       "  background-color: #f59d7e;\n",
       "  color: #000000;\n",
       "}\n",
       "#T_3e793_row11_col5, #T_3e793_row12_col7 {\n",
       "  background-color: #6b8df0;\n",
       "  color: #f1f1f1;\n",
       "}\n",
       "#T_3e793_row11_col8 {\n",
       "  background-color: #c0282f;\n",
       "  color: #f1f1f1;\n",
       "}\n",
       "#T_3e793_row11_col10 {\n",
       "  background-color: #e0654f;\n",
       "  color: #f1f1f1;\n",
       "}\n",
       "#T_3e793_row11_col12, #T_3e793_row12_col11 {\n",
       "  background-color: #ba162b;\n",
       "  color: #f1f1f1;\n",
       "}\n",
       "#T_3e793_row12_col0 {\n",
       "  background-color: #b3cdfb;\n",
       "  color: #000000;\n",
       "}\n",
       "#T_3e793_row12_col3 {\n",
       "  background-color: #f2c9b4;\n",
       "  color: #000000;\n",
       "}\n",
       "#T_3e793_row12_col4 {\n",
       "  background-color: #f7b497;\n",
       "  color: #000000;\n",
       "}\n",
       "#T_3e793_row12_col5 {\n",
       "  background-color: #81a4fb;\n",
       "  color: #f1f1f1;\n",
       "}\n",
       "#T_3e793_row12_col6 {\n",
       "  background-color: #85a8fc;\n",
       "  color: #f1f1f1;\n",
       "}\n",
       "#T_3e793_row12_col8 {\n",
       "  background-color: #d55042;\n",
       "  color: #f1f1f1;\n",
       "}\n",
       "#T_3e793_row12_col13, #T_3e793_row14_col10 {\n",
       "  background-color: #9bbcff;\n",
       "  color: #000000;\n",
       "}\n",
       "#T_3e793_row12_col14, #T_3e793_row13_col11, #T_3e793_row14_col9, #T_3e793_row14_col11 {\n",
       "  background-color: #89acfd;\n",
       "  color: #000000;\n",
       "}\n",
       "#T_3e793_row13_col2 {\n",
       "  background-color: #dcdddd;\n",
       "  color: #000000;\n",
       "}\n",
       "#T_3e793_row13_col4 {\n",
       "  background-color: #adc9fd;\n",
       "  color: #000000;\n",
       "}\n",
       "#T_3e793_row13_col6 {\n",
       "  background-color: #5875e1;\n",
       "  color: #f1f1f1;\n",
       "}\n",
       "#T_3e793_row13_col7 {\n",
       "  background-color: #cad8ef;\n",
       "  color: #000000;\n",
       "}\n",
       "#T_3e793_row13_col8 {\n",
       "  background-color: #9abbff;\n",
       "  color: #000000;\n",
       "}\n",
       "#T_3e793_row13_col9 {\n",
       "  background-color: #8badfd;\n",
       "  color: #000000;\n",
       "}\n",
       "#T_3e793_row13_col10 {\n",
       "  background-color: #a2c1ff;\n",
       "  color: #000000;\n",
       "}\n",
       "#T_3e793_row14_col2 {\n",
       "  background-color: #f1ccb8;\n",
       "  color: #000000;\n",
       "}\n",
       "#T_3e793_row14_col4 {\n",
       "  background-color: #afcafc;\n",
       "  color: #000000;\n",
       "}\n",
       "#T_3e793_row14_col5 {\n",
       "  background-color: #d5dbe5;\n",
       "  color: #000000;\n",
       "}\n",
       "#T_3e793_row14_col7 {\n",
       "  background-color: #d7dce3;\n",
       "  color: #000000;\n",
       "}\n",
       "</style>\n",
       "<table id=\"T_3e793_\">\n",
       "  <thead>\n",
       "    <tr>\n",
       "      <th class=\"blank level0\" >&nbsp;</th>\n",
       "      <th class=\"col_heading level0 col0\" >UTC</th>\n",
       "      <th class=\"col_heading level0 col1\" >Temperature[C]</th>\n",
       "      <th class=\"col_heading level0 col2\" >Humidity[%]</th>\n",
       "      <th class=\"col_heading level0 col3\" >TVOC[ppb]</th>\n",
       "      <th class=\"col_heading level0 col4\" >eCO2[ppm]</th>\n",
       "      <th class=\"col_heading level0 col5\" >Raw H2</th>\n",
       "      <th class=\"col_heading level0 col6\" >Raw Ethanol</th>\n",
       "      <th class=\"col_heading level0 col7\" >Pressure[hPa]</th>\n",
       "      <th class=\"col_heading level0 col8\" >PM1.0</th>\n",
       "      <th class=\"col_heading level0 col9\" >PM2.5</th>\n",
       "      <th class=\"col_heading level0 col10\" >NC0.5</th>\n",
       "      <th class=\"col_heading level0 col11\" >NC1.0</th>\n",
       "      <th class=\"col_heading level0 col12\" >NC2.5</th>\n",
       "      <th class=\"col_heading level0 col13\" >CNT</th>\n",
       "      <th class=\"col_heading level0 col14\" >Fire Alarm</th>\n",
       "    </tr>\n",
       "  </thead>\n",
       "  <tbody>\n",
       "    <tr>\n",
       "      <th id=\"T_3e793_level0_row0\" class=\"row_heading level0 row0\" >UTC</th>\n",
       "      <td id=\"T_3e793_row0_col0\" class=\"data row0 col0\" >1.000000</td>\n",
       "      <td id=\"T_3e793_row0_col1\" class=\"data row0 col1\" >-0.164174</td>\n",
       "      <td id=\"T_3e793_row0_col2\" class=\"data row0 col2\" >-0.391907</td>\n",
       "      <td id=\"T_3e793_row0_col3\" class=\"data row0 col3\" >0.180731</td>\n",
       "      <td id=\"T_3e793_row0_col4\" class=\"data row0 col4\" >0.132100</td>\n",
       "      <td id=\"T_3e793_row0_col5\" class=\"data row0 col5\" >-0.151088</td>\n",
       "      <td id=\"T_3e793_row0_col6\" class=\"data row0 col6\" >0.166555</td>\n",
       "      <td id=\"T_3e793_row0_col7\" class=\"data row0 col7\" >-0.434375</td>\n",
       "      <td id=\"T_3e793_row0_col8\" class=\"data row0 col8\" >0.123168</td>\n",
       "      <td id=\"T_3e793_row0_col9\" class=\"data row0 col9\" >0.105304</td>\n",
       "      <td id=\"T_3e793_row0_col10\" class=\"data row0 col10\" >0.130288</td>\n",
       "      <td id=\"T_3e793_row0_col11\" class=\"data row0 col11\" >0.103695</td>\n",
       "      <td id=\"T_3e793_row0_col12\" class=\"data row0 col12\" >0.083234</td>\n",
       "      <td id=\"T_3e793_row0_col13\" class=\"data row0 col13\" >-0.251595</td>\n",
       "      <td id=\"T_3e793_row0_col14\" class=\"data row0 col14\" >-0.389404</td>\n",
       "    </tr>\n",
       "    <tr>\n",
       "      <th id=\"T_3e793_level0_row1\" class=\"row_heading level0 row1\" >Temperature[C]</th>\n",
       "      <td id=\"T_3e793_row1_col0\" class=\"data row1 col0\" >-0.164174</td>\n",
       "      <td id=\"T_3e793_row1_col1\" class=\"data row1 col1\" >1.000000</td>\n",
       "      <td id=\"T_3e793_row1_col2\" class=\"data row1 col2\" >-0.243986</td>\n",
       "      <td id=\"T_3e793_row1_col3\" class=\"data row1 col3\" >0.082442</td>\n",
       "      <td id=\"T_3e793_row1_col4\" class=\"data row1 col4\" >0.079265</td>\n",
       "      <td id=\"T_3e793_row1_col5\" class=\"data row1 col5\" >-0.135540</td>\n",
       "      <td id=\"T_3e793_row1_col6\" class=\"data row1 col6\" >-0.037343</td>\n",
       "      <td id=\"T_3e793_row1_col7\" class=\"data row1 col7\" >-0.251203</td>\n",
       "      <td id=\"T_3e793_row1_col8\" class=\"data row1 col8\" >0.037330</td>\n",
       "      <td id=\"T_3e793_row1_col9\" class=\"data row1 col9\" >0.032084</td>\n",
       "      <td id=\"T_3e793_row1_col10\" class=\"data row1 col10\" >0.039291</td>\n",
       "      <td id=\"T_3e793_row1_col11\" class=\"data row1 col11\" >0.031608</td>\n",
       "      <td id=\"T_3e793_row1_col12\" class=\"data row1 col12\" >0.025526</td>\n",
       "      <td id=\"T_3e793_row1_col13\" class=\"data row1 col13\" >-0.089850</td>\n",
       "      <td id=\"T_3e793_row1_col14\" class=\"data row1 col14\" >-0.163902</td>\n",
       "    </tr>\n",
       "    <tr>\n",
       "      <th id=\"T_3e793_level0_row2\" class=\"row_heading level0 row2\" >Humidity[%]</th>\n",
       "      <td id=\"T_3e793_row2_col0\" class=\"data row2 col0\" >-0.391907</td>\n",
       "      <td id=\"T_3e793_row2_col1\" class=\"data row2 col1\" >-0.243986</td>\n",
       "      <td id=\"T_3e793_row2_col2\" class=\"data row2 col2\" >1.000000</td>\n",
       "      <td id=\"T_3e793_row2_col3\" class=\"data row2 col3\" >-0.488878</td>\n",
       "      <td id=\"T_3e793_row2_col4\" class=\"data row2 col4\" >-0.369095</td>\n",
       "      <td id=\"T_3e793_row2_col5\" class=\"data row2 col5\" >0.247199</td>\n",
       "      <td id=\"T_3e793_row2_col6\" class=\"data row2 col6\" >0.068782</td>\n",
       "      <td id=\"T_3e793_row2_col7\" class=\"data row2 col7\" >0.694614</td>\n",
       "      <td id=\"T_3e793_row2_col8\" class=\"data row2 col8\" >-0.236538</td>\n",
       "      <td id=\"T_3e793_row2_col9\" class=\"data row2 col9\" >-0.178882</td>\n",
       "      <td id=\"T_3e793_row2_col10\" class=\"data row2 col10\" >-0.277389</td>\n",
       "      <td id=\"T_3e793_row2_col11\" class=\"data row2 col11\" >-0.174224</td>\n",
       "      <td id=\"T_3e793_row2_col12\" class=\"data row2 col12\" >-0.118502</td>\n",
       "      <td id=\"T_3e793_row2_col13\" class=\"data row2 col13\" >0.251965</td>\n",
       "      <td id=\"T_3e793_row2_col14\" class=\"data row2 col14\" >0.399846</td>\n",
       "    </tr>\n",
       "    <tr>\n",
       "      <th id=\"T_3e793_level0_row3\" class=\"row_heading level0 row3\" >TVOC[ppb]</th>\n",
       "      <td id=\"T_3e793_row3_col0\" class=\"data row3 col0\" >0.180731</td>\n",
       "      <td id=\"T_3e793_row3_col1\" class=\"data row3 col1\" >0.082442</td>\n",
       "      <td id=\"T_3e793_row3_col2\" class=\"data row3 col2\" >-0.488878</td>\n",
       "      <td id=\"T_3e793_row3_col3\" class=\"data row3 col3\" >1.000000</td>\n",
       "      <td id=\"T_3e793_row3_col4\" class=\"data row3 col4\" >0.606118</td>\n",
       "      <td id=\"T_3e793_row3_col5\" class=\"data row3 col5\" >-0.653053</td>\n",
       "      <td id=\"T_3e793_row3_col6\" class=\"data row3 col6\" >-0.673715</td>\n",
       "      <td id=\"T_3e793_row3_col7\" class=\"data row3 col7\" >-0.220004</td>\n",
       "      <td id=\"T_3e793_row3_col8\" class=\"data row3 col8\" >0.597366</td>\n",
       "      <td id=\"T_3e793_row3_col9\" class=\"data row3 col9\" >0.477424</td>\n",
       "      <td id=\"T_3e793_row3_col10\" class=\"data row3 col10\" >0.670657</td>\n",
       "      <td id=\"T_3e793_row3_col11\" class=\"data row3 col11\" >0.467386</td>\n",
       "      <td id=\"T_3e793_row3_col12\" class=\"data row3 col12\" >0.344721</td>\n",
       "      <td id=\"T_3e793_row3_col13\" class=\"data row3 col13\" >-0.057703</td>\n",
       "      <td id=\"T_3e793_row3_col14\" class=\"data row3 col14\" >-0.214743</td>\n",
       "    </tr>\n",
       "    <tr>\n",
       "      <th id=\"T_3e793_level0_row4\" class=\"row_heading level0 row4\" >eCO2[ppm]</th>\n",
       "      <td id=\"T_3e793_row4_col0\" class=\"data row4 col0\" >0.132100</td>\n",
       "      <td id=\"T_3e793_row4_col1\" class=\"data row4 col1\" >0.079265</td>\n",
       "      <td id=\"T_3e793_row4_col2\" class=\"data row4 col2\" >-0.369095</td>\n",
       "      <td id=\"T_3e793_row4_col3\" class=\"data row4 col3\" >0.606118</td>\n",
       "      <td id=\"T_3e793_row4_col4\" class=\"data row4 col4\" >1.000000</td>\n",
       "      <td id=\"T_3e793_row4_col5\" class=\"data row4 col5\" >-0.682785</td>\n",
       "      <td id=\"T_3e793_row4_col6\" class=\"data row4 col6\" >-0.506695</td>\n",
       "      <td id=\"T_3e793_row4_col7\" class=\"data row4 col7\" >-0.326043</td>\n",
       "      <td id=\"T_3e793_row4_col8\" class=\"data row4 col8\" >0.665482</td>\n",
       "      <td id=\"T_3e793_row4_col9\" class=\"data row4 col9\" >0.572691</td>\n",
       "      <td id=\"T_3e793_row4_col10\" class=\"data row4 col10\" >0.699604</td>\n",
       "      <td id=\"T_3e793_row4_col11\" class=\"data row4 col11\" >0.564252</td>\n",
       "      <td id=\"T_3e793_row4_col12\" class=\"data row4 col12\" >0.456323</td>\n",
       "      <td id=\"T_3e793_row4_col13\" class=\"data row4 col13\" >-0.106681</td>\n",
       "      <td id=\"T_3e793_row4_col14\" class=\"data row4 col14\" >-0.097006</td>\n",
       "    </tr>\n",
       "    <tr>\n",
       "      <th id=\"T_3e793_level0_row5\" class=\"row_heading level0 row5\" >Raw H2</th>\n",
       "      <td id=\"T_3e793_row5_col0\" class=\"data row5 col0\" >-0.151088</td>\n",
       "      <td id=\"T_3e793_row5_col1\" class=\"data row5 col1\" >-0.135540</td>\n",
       "      <td id=\"T_3e793_row5_col2\" class=\"data row5 col2\" >0.247199</td>\n",
       "      <td id=\"T_3e793_row5_col3\" class=\"data row5 col3\" >-0.653053</td>\n",
       "      <td id=\"T_3e793_row5_col4\" class=\"data row5 col4\" >-0.682785</td>\n",
       "      <td id=\"T_3e793_row5_col5\" class=\"data row5 col5\" >1.000000</td>\n",
       "      <td id=\"T_3e793_row5_col6\" class=\"data row5 col6\" >0.631495</td>\n",
       "      <td id=\"T_3e793_row5_col7\" class=\"data row5 col7\" >0.303090</td>\n",
       "      <td id=\"T_3e793_row5_col8\" class=\"data row5 col8\" >-0.530714</td>\n",
       "      <td id=\"T_3e793_row5_col9\" class=\"data row5 col9\" >-0.431079</td>\n",
       "      <td id=\"T_3e793_row5_col10\" class=\"data row5 col10\" >-0.587769</td>\n",
       "      <td id=\"T_3e793_row5_col11\" class=\"data row5 col11\" >-0.422626</td>\n",
       "      <td id=\"T_3e793_row5_col12\" class=\"data row5 col12\" >-0.318518</td>\n",
       "      <td id=\"T_3e793_row5_col13\" class=\"data row5 col13\" >-0.031036</td>\n",
       "      <td id=\"T_3e793_row5_col14\" class=\"data row5 col14\" >0.107007</td>\n",
       "    </tr>\n",
       "    <tr>\n",
       "      <th id=\"T_3e793_level0_row6\" class=\"row_heading level0 row6\" >Raw Ethanol</th>\n",
       "      <td id=\"T_3e793_row6_col0\" class=\"data row6 col0\" >0.166555</td>\n",
       "      <td id=\"T_3e793_row6_col1\" class=\"data row6 col1\" >-0.037343</td>\n",
       "      <td id=\"T_3e793_row6_col2\" class=\"data row6 col2\" >0.068782</td>\n",
       "      <td id=\"T_3e793_row6_col3\" class=\"data row6 col3\" >-0.673715</td>\n",
       "      <td id=\"T_3e793_row6_col4\" class=\"data row6 col4\" >-0.506695</td>\n",
       "      <td id=\"T_3e793_row6_col5\" class=\"data row6 col5\" >0.631495</td>\n",
       "      <td id=\"T_3e793_row6_col6\" class=\"data row6 col6\" >1.000000</td>\n",
       "      <td id=\"T_3e793_row6_col7\" class=\"data row6 col7\" >-0.075926</td>\n",
       "      <td id=\"T_3e793_row6_col8\" class=\"data row6 col8\" >-0.480698</td>\n",
       "      <td id=\"T_3e793_row6_col9\" class=\"data row6 col9\" >-0.393192</td>\n",
       "      <td id=\"T_3e793_row6_col10\" class=\"data row6 col10\" >-0.529186</td>\n",
       "      <td id=\"T_3e793_row6_col11\" class=\"data row6 col11\" >-0.385720</td>\n",
       "      <td id=\"T_3e793_row6_col12\" class=\"data row6 col12\" >-0.293351</td>\n",
       "      <td id=\"T_3e793_row6_col13\" class=\"data row6 col13\" >-0.511995</td>\n",
       "      <td id=\"T_3e793_row6_col14\" class=\"data row6 col14\" >-0.340652</td>\n",
       "    </tr>\n",
       "    <tr>\n",
       "      <th id=\"T_3e793_level0_row7\" class=\"row_heading level0 row7\" >Pressure[hPa]</th>\n",
       "      <td id=\"T_3e793_row7_col0\" class=\"data row7 col0\" >-0.434375</td>\n",
       "      <td id=\"T_3e793_row7_col1\" class=\"data row7 col1\" >-0.251203</td>\n",
       "      <td id=\"T_3e793_row7_col2\" class=\"data row7 col2\" >0.694614</td>\n",
       "      <td id=\"T_3e793_row7_col3\" class=\"data row7 col3\" >-0.220004</td>\n",
       "      <td id=\"T_3e793_row7_col4\" class=\"data row7 col4\" >-0.326043</td>\n",
       "      <td id=\"T_3e793_row7_col5\" class=\"data row7 col5\" >0.303090</td>\n",
       "      <td id=\"T_3e793_row7_col6\" class=\"data row7 col6\" >-0.075926</td>\n",
       "      <td id=\"T_3e793_row7_col7\" class=\"data row7 col7\" >1.000000</td>\n",
       "      <td id=\"T_3e793_row7_col8\" class=\"data row7 col8\" >-0.258938</td>\n",
       "      <td id=\"T_3e793_row7_col9\" class=\"data row7 col9\" >-0.243071</td>\n",
       "      <td id=\"T_3e793_row7_col10\" class=\"data row7 col10\" >-0.248657</td>\n",
       "      <td id=\"T_3e793_row7_col11\" class=\"data row7 col11\" >-0.241148</td>\n",
       "      <td id=\"T_3e793_row7_col12\" class=\"data row7 col12\" >-0.213390</td>\n",
       "      <td id=\"T_3e793_row7_col13\" class=\"data row7 col13\" >0.186290</td>\n",
       "      <td id=\"T_3e793_row7_col14\" class=\"data row7 col14\" >0.249797</td>\n",
       "    </tr>\n",
       "    <tr>\n",
       "      <th id=\"T_3e793_level0_row8\" class=\"row_heading level0 row8\" >PM1.0</th>\n",
       "      <td id=\"T_3e793_row8_col0\" class=\"data row8 col0\" >0.123168</td>\n",
       "      <td id=\"T_3e793_row8_col1\" class=\"data row8 col1\" >0.037330</td>\n",
       "      <td id=\"T_3e793_row8_col2\" class=\"data row8 col2\" >-0.236538</td>\n",
       "      <td id=\"T_3e793_row8_col3\" class=\"data row8 col3\" >0.597366</td>\n",
       "      <td id=\"T_3e793_row8_col4\" class=\"data row8 col4\" >0.665482</td>\n",
       "      <td id=\"T_3e793_row8_col5\" class=\"data row8 col5\" >-0.530714</td>\n",
       "      <td id=\"T_3e793_row8_col6\" class=\"data row8 col6\" >-0.480698</td>\n",
       "      <td id=\"T_3e793_row8_col7\" class=\"data row8 col7\" >-0.258938</td>\n",
       "      <td id=\"T_3e793_row8_col8\" class=\"data row8 col8\" >1.000000</td>\n",
       "      <td id=\"T_3e793_row8_col9\" class=\"data row8 col9\" >0.956118</td>\n",
       "      <td id=\"T_3e793_row8_col10\" class=\"data row8 col10\" >0.940045</td>\n",
       "      <td id=\"T_3e793_row8_col11\" class=\"data row8 col11\" >0.949860</td>\n",
       "      <td id=\"T_3e793_row8_col12\" class=\"data row8 col12\" >0.854901</td>\n",
       "      <td id=\"T_3e793_row8_col13\" class=\"data row8 col13\" >-0.093700</td>\n",
       "      <td id=\"T_3e793_row8_col14\" class=\"data row8 col14\" >-0.110552</td>\n",
       "    </tr>\n",
       "    <tr>\n",
       "      <th id=\"T_3e793_level0_row9\" class=\"row_heading level0 row9\" >PM2.5</th>\n",
       "      <td id=\"T_3e793_row9_col0\" class=\"data row9 col0\" >0.105304</td>\n",
       "      <td id=\"T_3e793_row9_col1\" class=\"data row9 col1\" >0.032084</td>\n",
       "      <td id=\"T_3e793_row9_col2\" class=\"data row9 col2\" >-0.178882</td>\n",
       "      <td id=\"T_3e793_row9_col3\" class=\"data row9 col3\" >0.477424</td>\n",
       "      <td id=\"T_3e793_row9_col4\" class=\"data row9 col4\" >0.572691</td>\n",
       "      <td id=\"T_3e793_row9_col5\" class=\"data row9 col5\" >-0.431079</td>\n",
       "      <td id=\"T_3e793_row9_col6\" class=\"data row9 col6\" >-0.393192</td>\n",
       "      <td id=\"T_3e793_row9_col7\" class=\"data row9 col7\" >-0.243071</td>\n",
       "      <td id=\"T_3e793_row9_col8\" class=\"data row9 col8\" >0.956118</td>\n",
       "      <td id=\"T_3e793_row9_col9\" class=\"data row9 col9\" >1.000000</td>\n",
       "      <td id=\"T_3e793_row9_col10\" class=\"data row9 col10\" >0.798873</td>\n",
       "      <td id=\"T_3e793_row9_col11\" class=\"data row9 col11\" >0.999787</td>\n",
       "      <td id=\"T_3e793_row9_col12\" class=\"data row9 col12\" >0.969382</td>\n",
       "      <td id=\"T_3e793_row9_col13\" class=\"data row9 col13\" >-0.083869</td>\n",
       "      <td id=\"T_3e793_row9_col14\" class=\"data row9 col14\" >-0.084916</td>\n",
       "    </tr>\n",
       "    <tr>\n",
       "      <th id=\"T_3e793_level0_row10\" class=\"row_heading level0 row10\" >NC0.5</th>\n",
       "      <td id=\"T_3e793_row10_col0\" class=\"data row10 col0\" >0.130288</td>\n",
       "      <td id=\"T_3e793_row10_col1\" class=\"data row10 col1\" >0.039291</td>\n",
       "      <td id=\"T_3e793_row10_col2\" class=\"data row10 col2\" >-0.277389</td>\n",
       "      <td id=\"T_3e793_row10_col3\" class=\"data row10 col3\" >0.670657</td>\n",
       "      <td id=\"T_3e793_row10_col4\" class=\"data row10 col4\" >0.699604</td>\n",
       "      <td id=\"T_3e793_row10_col5\" class=\"data row10 col5\" >-0.587769</td>\n",
       "      <td id=\"T_3e793_row10_col6\" class=\"data row10 col6\" >-0.529186</td>\n",
       "      <td id=\"T_3e793_row10_col7\" class=\"data row10 col7\" >-0.248657</td>\n",
       "      <td id=\"T_3e793_row10_col8\" class=\"data row10 col8\" >0.940045</td>\n",
       "      <td id=\"T_3e793_row10_col9\" class=\"data row10 col9\" >0.798873</td>\n",
       "      <td id=\"T_3e793_row10_col10\" class=\"data row10 col10\" >1.000000</td>\n",
       "      <td id=\"T_3e793_row10_col11\" class=\"data row10 col11\" >0.786274</td>\n",
       "      <td id=\"T_3e793_row10_col12\" class=\"data row10 col12\" >0.626711</td>\n",
       "      <td id=\"T_3e793_row10_col13\" class=\"data row10 col13\" >-0.094741</td>\n",
       "      <td id=\"T_3e793_row10_col14\" class=\"data row10 col14\" >-0.128118</td>\n",
       "    </tr>\n",
       "    <tr>\n",
       "      <th id=\"T_3e793_level0_row11\" class=\"row_heading level0 row11\" >NC1.0</th>\n",
       "      <td id=\"T_3e793_row11_col0\" class=\"data row11 col0\" >0.103695</td>\n",
       "      <td id=\"T_3e793_row11_col1\" class=\"data row11 col1\" >0.031608</td>\n",
       "      <td id=\"T_3e793_row11_col2\" class=\"data row11 col2\" >-0.174224</td>\n",
       "      <td id=\"T_3e793_row11_col3\" class=\"data row11 col3\" >0.467386</td>\n",
       "      <td id=\"T_3e793_row11_col4\" class=\"data row11 col4\" >0.564252</td>\n",
       "      <td id=\"T_3e793_row11_col5\" class=\"data row11 col5\" >-0.422626</td>\n",
       "      <td id=\"T_3e793_row11_col6\" class=\"data row11 col6\" >-0.385720</td>\n",
       "      <td id=\"T_3e793_row11_col7\" class=\"data row11 col7\" >-0.241148</td>\n",
       "      <td id=\"T_3e793_row11_col8\" class=\"data row11 col8\" >0.949860</td>\n",
       "      <td id=\"T_3e793_row11_col9\" class=\"data row11 col9\" >0.999787</td>\n",
       "      <td id=\"T_3e793_row11_col10\" class=\"data row11 col10\" >0.786274</td>\n",
       "      <td id=\"T_3e793_row11_col11\" class=\"data row11 col11\" >1.000000</td>\n",
       "      <td id=\"T_3e793_row11_col12\" class=\"data row11 col12\" >0.974249</td>\n",
       "      <td id=\"T_3e793_row11_col13\" class=\"data row11 col13\" >-0.082898</td>\n",
       "      <td id=\"T_3e793_row11_col14\" class=\"data row11 col14\" >-0.082828</td>\n",
       "    </tr>\n",
       "    <tr>\n",
       "      <th id=\"T_3e793_level0_row12\" class=\"row_heading level0 row12\" >NC2.5</th>\n",
       "      <td id=\"T_3e793_row12_col0\" class=\"data row12 col0\" >0.083234</td>\n",
       "      <td id=\"T_3e793_row12_col1\" class=\"data row12 col1\" >0.025526</td>\n",
       "      <td id=\"T_3e793_row12_col2\" class=\"data row12 col2\" >-0.118502</td>\n",
       "      <td id=\"T_3e793_row12_col3\" class=\"data row12 col3\" >0.344721</td>\n",
       "      <td id=\"T_3e793_row12_col4\" class=\"data row12 col4\" >0.456323</td>\n",
       "      <td id=\"T_3e793_row12_col5\" class=\"data row12 col5\" >-0.318518</td>\n",
       "      <td id=\"T_3e793_row12_col6\" class=\"data row12 col6\" >-0.293351</td>\n",
       "      <td id=\"T_3e793_row12_col7\" class=\"data row12 col7\" >-0.213390</td>\n",
       "      <td id=\"T_3e793_row12_col8\" class=\"data row12 col8\" >0.854901</td>\n",
       "      <td id=\"T_3e793_row12_col9\" class=\"data row12 col9\" >0.969382</td>\n",
       "      <td id=\"T_3e793_row12_col10\" class=\"data row12 col10\" >0.626711</td>\n",
       "      <td id=\"T_3e793_row12_col11\" class=\"data row12 col11\" >0.974249</td>\n",
       "      <td id=\"T_3e793_row12_col12\" class=\"data row12 col12\" >1.000000</td>\n",
       "      <td id=\"T_3e793_row12_col13\" class=\"data row12 col13\" >-0.069977</td>\n",
       "      <td id=\"T_3e793_row12_col14\" class=\"data row12 col14\" >-0.057707</td>\n",
       "    </tr>\n",
       "    <tr>\n",
       "      <th id=\"T_3e793_level0_row13\" class=\"row_heading level0 row13\" >CNT</th>\n",
       "      <td id=\"T_3e793_row13_col0\" class=\"data row13 col0\" >-0.251595</td>\n",
       "      <td id=\"T_3e793_row13_col1\" class=\"data row13 col1\" >-0.089850</td>\n",
       "      <td id=\"T_3e793_row13_col2\" class=\"data row13 col2\" >0.251965</td>\n",
       "      <td id=\"T_3e793_row13_col3\" class=\"data row13 col3\" >-0.057703</td>\n",
       "      <td id=\"T_3e793_row13_col4\" class=\"data row13 col4\" >-0.106681</td>\n",
       "      <td id=\"T_3e793_row13_col5\" class=\"data row13 col5\" >-0.031036</td>\n",
       "      <td id=\"T_3e793_row13_col6\" class=\"data row13 col6\" >-0.511995</td>\n",
       "      <td id=\"T_3e793_row13_col7\" class=\"data row13 col7\" >0.186290</td>\n",
       "      <td id=\"T_3e793_row13_col8\" class=\"data row13 col8\" >-0.093700</td>\n",
       "      <td id=\"T_3e793_row13_col9\" class=\"data row13 col9\" >-0.083869</td>\n",
       "      <td id=\"T_3e793_row13_col10\" class=\"data row13 col10\" >-0.094741</td>\n",
       "      <td id=\"T_3e793_row13_col11\" class=\"data row13 col11\" >-0.082898</td>\n",
       "      <td id=\"T_3e793_row13_col12\" class=\"data row13 col12\" >-0.069977</td>\n",
       "      <td id=\"T_3e793_row13_col13\" class=\"data row13 col13\" >1.000000</td>\n",
       "      <td id=\"T_3e793_row13_col14\" class=\"data row13 col14\" >0.673762</td>\n",
       "    </tr>\n",
       "    <tr>\n",
       "      <th id=\"T_3e793_level0_row14\" class=\"row_heading level0 row14\" >Fire Alarm</th>\n",
       "      <td id=\"T_3e793_row14_col0\" class=\"data row14 col0\" >-0.389404</td>\n",
       "      <td id=\"T_3e793_row14_col1\" class=\"data row14 col1\" >-0.163902</td>\n",
       "      <td id=\"T_3e793_row14_col2\" class=\"data row14 col2\" >0.399846</td>\n",
       "      <td id=\"T_3e793_row14_col3\" class=\"data row14 col3\" >-0.214743</td>\n",
       "      <td id=\"T_3e793_row14_col4\" class=\"data row14 col4\" >-0.097006</td>\n",
       "      <td id=\"T_3e793_row14_col5\" class=\"data row14 col5\" >0.107007</td>\n",
       "      <td id=\"T_3e793_row14_col6\" class=\"data row14 col6\" >-0.340652</td>\n",
       "      <td id=\"T_3e793_row14_col7\" class=\"data row14 col7\" >0.249797</td>\n",
       "      <td id=\"T_3e793_row14_col8\" class=\"data row14 col8\" >-0.110552</td>\n",
       "      <td id=\"T_3e793_row14_col9\" class=\"data row14 col9\" >-0.084916</td>\n",
       "      <td id=\"T_3e793_row14_col10\" class=\"data row14 col10\" >-0.128118</td>\n",
       "      <td id=\"T_3e793_row14_col11\" class=\"data row14 col11\" >-0.082828</td>\n",
       "      <td id=\"T_3e793_row14_col12\" class=\"data row14 col12\" >-0.057707</td>\n",
       "      <td id=\"T_3e793_row14_col13\" class=\"data row14 col13\" >0.673762</td>\n",
       "      <td id=\"T_3e793_row14_col14\" class=\"data row14 col14\" >1.000000</td>\n",
       "    </tr>\n",
       "  </tbody>\n",
       "</table>\n"
      ],
      "text/plain": [
       "<pandas.io.formats.style.Styler at 0x2a48a63adc0>"
      ]
     },
     "execution_count": 31,
     "metadata": {},
     "output_type": "execute_result"
    },
    {
     "data": {
      "text/plain": [
       "<Figure size 720x720 with 0 Axes>"
      ]
     },
     "metadata": {},
     "output_type": "display_data"
    }
   ],
   "source": [
    "corr = df.corr()\n",
    "plt.figure(figsize=(10,10))\n",
    "corr.style.background_gradient(cmap='coolwarm')"
   ]
  },
  {
   "cell_type": "markdown",
   "id": "601344f6",
   "metadata": {},
   "source": [
    "# Observation"
   ]
  },
  {
   "cell_type": "markdown",
   "id": "c526431a",
   "metadata": {},
   "source": [
    "* The correlation heatmap reveals that while features 'PM' and 'CM' have the highest correlation with one another, they also do not significantly contribute to the target variable.\n",
    "* Also, features 'CNT' and 'Humidity' contributes comparatively higher to target variable than the other features."
   ]
  },
  {
   "cell_type": "code",
   "execution_count": 32,
   "id": "853c0dc6",
   "metadata": {},
   "outputs": [
    {
     "data": {
      "image/png": "[encoded data removed]",
      "text/plain": [
       "<Figure size 1080x360 with 3 Axes>"
      ]
     },
     "metadata": {
      "needs_background": "light"
     },
     "output_type": "display_data"
    }
   ],
   "source": [
    "fig = plt.figure(figsize=(15,5))\n",
    "plt.subplot(131)\n",
    "sns.barplot(df['Fire Alarm'] , df['eCO2[ppm]'])\n",
    "plt.subplot(132)\n",
    "sns.barplot(df['Fire Alarm'] , df['TVOC[ppb]'])\n",
    "plt.subplot(133)\n",
    "sns.barplot(df['Fire Alarm'] , df['Humidity[%]'])\n",
    "plt.tight_layout()"
   ]
  },
  {
   "cell_type": "markdown",
   "id": "87a86853",
   "metadata": {},
   "source": [
    "* There is a probability that the fire alarm will trigger when the level of 'eCO2' (equivalent carbon dioxide) drops.\n",
    "* The same applies to 'TVOC'(total volatile organic compounds); if it drops, a fire alarm will trigger.\n",
    "* As contrary to previous observations, the File Alarm will activate with a slight increase in \"Humidity%.\" This justification is valid since a fire's smoke will raise the air's humidity level."
   ]
  },
  {
   "cell_type": "code",
   "execution_count": 33,
   "id": "84294644",
   "metadata": {},
   "outputs": [
    {
     "data": {
      "text/plain": [
       "<AxesSubplot:xlabel='Fire Alarm', ylabel='PM2.5'>"
      ]
     },
     "execution_count": 33,
     "metadata": {},
     "output_type": "execute_result"
    },
    {
     "data": {
      "image/png": "[encoded data removed]",
      "text/plain": [
       "<Figure size 1080x360 with 2 Axes>"
      ]
     },
     "metadata": {
      "needs_background": "light"
     },
     "output_type": "display_data"
    }
   ],
   "source": [
    "fig = plt.figure(figsize=(15,5))\n",
    "plt.subplot(121)\n",
    "sns.barplot(df['Fire Alarm'] , df['PM1.0'])\n",
    "plt.subplot(122)\n",
    "sns.barplot(df['Fire Alarm'] , df['PM2.5'])"
   ]
  },
  {
   "cell_type": "markdown",
   "id": "5cea1aab",
   "metadata": {},
   "source": [
    "* From the plot above, we notice that the smoke alarm will activate when the size of smoke particulate matters (PM1.0 and PM2.5) decreases."
   ]
  },
  {
   "cell_type": "code",
   "execution_count": 34,
   "id": "c918490b",
   "metadata": {},
   "outputs": [
    {
     "data": {
      "image/png": "[encoded data removed]",
      "text/plain": [
       "<Figure size 1080x360 with 3 Axes>"
      ]
     },
     "metadata": {
      "needs_background": "light"
     },
     "output_type": "display_data"
    }
   ],
   "source": [
    "fig = plt.figure(figsize=(15,5))\n",
    "plt.subplot(131)\n",
    "sns.barplot(df['Fire Alarm'] , df['NC0.5'])\n",
    "plt.subplot(132)\n",
    "sns.barplot(df['Fire Alarm'] , df['NC1.0'])\n",
    "plt.subplot(133)\n",
    "sns.barplot(df['Fire Alarm'] , df['NC2.5'])\n",
    "plt.tight_layout()"
   ]
  },
  {
   "cell_type": "markdown",
   "id": "ce0ac07d",
   "metadata": {},
   "source": [
    "* It is obvious that a drop in the number of particulate matter (NC0.5, NC1.0 and NC2.5) will cause the smoke alarm to trigger."
   ]
  },
  {
   "cell_type": "markdown",
   "id": "3fa251ed",
   "metadata": {},
   "source": [
    "# Training & Testing data"
   ]
  },
  {
   "cell_type": "code",
   "execution_count": 35,
   "id": "f9d0636c",
   "metadata": {},
   "outputs": [],
   "source": [
    "X=df.iloc[:,0:14]"
   ]
  },
  {
   "cell_type": "code",
   "execution_count": 36,
   "id": "c16e7ee3",
   "metadata": {},
   "outputs": [
    {
     "data": {
      "text/html": [
       "<div>\n",
       "<style scoped>\n",
       "    .dataframe tbody tr th:only-of-type {\n",
       "        vertical-align: middle;\n",
       "    }\n",
       "\n",
       "    .dataframe tbody tr th {\n",
       "        vertical-align: top;\n",
       "    }\n",
       "\n",
       "    .dataframe thead th {\n",
       "        text-align: right;\n",
       "    }\n",
       "</style>\n",
       "<table border=\"1\" class=\"dataframe\">\n",
       "  <thead>\n",
       "    <tr style=\"text-align: right;\">\n",
       "      <th></th>\n",
       "      <th>UTC</th>\n",
       "      <th>Temperature[C]</th>\n",
       "      <th>Humidity[%]</th>\n",
       "      <th>TVOC[ppb]</th>\n",
       "      <th>eCO2[ppm]</th>\n",
       "      <th>Raw H2</th>\n",
       "      <th>Raw Ethanol</th>\n",
       "      <th>Pressure[hPa]</th>\n",
       "      <th>PM1.0</th>\n",
       "      <th>PM2.5</th>\n",
       "      <th>NC0.5</th>\n",
       "      <th>NC1.0</th>\n",
       "      <th>NC2.5</th>\n",
       "      <th>CNT</th>\n",
       "    </tr>\n",
       "  </thead>\n",
       "  <tbody>\n",
       "    <tr>\n",
       "      <th>0</th>\n",
       "      <td>1654733331</td>\n",
       "      <td>20.000</td>\n",
       "      <td>57.36</td>\n",
       "      <td>0</td>\n",
       "      <td>400</td>\n",
       "      <td>12306</td>\n",
       "      <td>18520</td>\n",
       "      <td>939.735</td>\n",
       "      <td>0.0</td>\n",
       "      <td>0.0</td>\n",
       "      <td>0.0</td>\n",
       "      <td>0.0</td>\n",
       "      <td>0.0</td>\n",
       "      <td>0</td>\n",
       "    </tr>\n",
       "    <tr>\n",
       "      <th>1</th>\n",
       "      <td>1654733332</td>\n",
       "      <td>20.015</td>\n",
       "      <td>56.67</td>\n",
       "      <td>0</td>\n",
       "      <td>400</td>\n",
       "      <td>12345</td>\n",
       "      <td>18651</td>\n",
       "      <td>939.744</td>\n",
       "      <td>0.0</td>\n",
       "      <td>0.0</td>\n",
       "      <td>0.0</td>\n",
       "      <td>0.0</td>\n",
       "      <td>0.0</td>\n",
       "      <td>1</td>\n",
       "    </tr>\n",
       "    <tr>\n",
       "      <th>2</th>\n",
       "      <td>1654733333</td>\n",
       "      <td>20.029</td>\n",
       "      <td>55.96</td>\n",
       "      <td>0</td>\n",
       "      <td>400</td>\n",
       "      <td>12374</td>\n",
       "      <td>18764</td>\n",
       "      <td>939.738</td>\n",
       "      <td>0.0</td>\n",
       "      <td>0.0</td>\n",
       "      <td>0.0</td>\n",
       "      <td>0.0</td>\n",
       "      <td>0.0</td>\n",
       "      <td>2</td>\n",
       "    </tr>\n",
       "    <tr>\n",
       "      <th>3</th>\n",
       "      <td>1654733334</td>\n",
       "      <td>20.044</td>\n",
       "      <td>55.28</td>\n",
       "      <td>0</td>\n",
       "      <td>400</td>\n",
       "      <td>12390</td>\n",
       "      <td>18849</td>\n",
       "      <td>939.736</td>\n",
       "      <td>0.0</td>\n",
       "      <td>0.0</td>\n",
       "      <td>0.0</td>\n",
       "      <td>0.0</td>\n",
       "      <td>0.0</td>\n",
       "      <td>3</td>\n",
       "    </tr>\n",
       "    <tr>\n",
       "      <th>4</th>\n",
       "      <td>1654733335</td>\n",
       "      <td>20.059</td>\n",
       "      <td>54.69</td>\n",
       "      <td>0</td>\n",
       "      <td>400</td>\n",
       "      <td>12403</td>\n",
       "      <td>18921</td>\n",
       "      <td>939.744</td>\n",
       "      <td>0.0</td>\n",
       "      <td>0.0</td>\n",
       "      <td>0.0</td>\n",
       "      <td>0.0</td>\n",
       "      <td>0.0</td>\n",
       "      <td>4</td>\n",
       "    </tr>\n",
       "  </tbody>\n",
       "</table>\n",
       "</div>"
      ],
      "text/plain": [
       "          UTC  Temperature[C]  Humidity[%]  TVOC[ppb]  eCO2[ppm]  Raw H2  \\\n",
       "0  1654733331          20.000        57.36          0        400   12306   \n",
       "1  1654733332          20.015        56.67          0        400   12345   \n",
       "2  1654733333          20.029        55.96          0        400   12374   \n",
       "3  1654733334          20.044        55.28          0        400   12390   \n",
       "4  1654733335          20.059        54.69          0        400   12403   \n",
       "\n",
       "   Raw Ethanol  Pressure[hPa]  PM1.0  PM2.5  NC0.5  NC1.0  NC2.5  CNT  \n",
       "0        18520        939.735    0.0    0.0    0.0    0.0    0.0    0  \n",
       "1        18651        939.744    0.0    0.0    0.0    0.0    0.0    1  \n",
       "2        18764        939.738    0.0    0.0    0.0    0.0    0.0    2  \n",
       "3        18849        939.736    0.0    0.0    0.0    0.0    0.0    3  \n",
       "4        18921        939.744    0.0    0.0    0.0    0.0    0.0    4  "
      ]
     },
     "execution_count": 36,
     "metadata": {},
     "output_type": "execute_result"
    }
   ],
   "source": [
    "X.head()"
   ]
  },
  {
   "cell_type": "code",
   "execution_count": 37,
   "id": "66a74f83",
   "metadata": {},
   "outputs": [],
   "source": [
    "y=df.iloc[:,14:]"
   ]
  },
  {
   "cell_type": "code",
   "execution_count": 38,
   "id": "10c45ff0",
   "metadata": {},
   "outputs": [
    {
     "data": {
      "text/html": [
       "<div>\n",
       "<style scoped>\n",
       "    .dataframe tbody tr th:only-of-type {\n",
       "        vertical-align: middle;\n",
       "    }\n",
       "\n",
       "    .dataframe tbody tr th {\n",
       "        vertical-align: top;\n",
       "    }\n",
       "\n",
       "    .dataframe thead th {\n",
       "        text-align: right;\n",
       "    }\n",
       "</style>\n",
       "<table border=\"1\" class=\"dataframe\">\n",
       "  <thead>\n",
       "    <tr style=\"text-align: right;\">\n",
       "      <th></th>\n",
       "      <th>Fire Alarm</th>\n",
       "    </tr>\n",
       "  </thead>\n",
       "  <tbody>\n",
       "    <tr>\n",
       "      <th>0</th>\n",
       "      <td>0</td>\n",
       "    </tr>\n",
       "    <tr>\n",
       "      <th>1</th>\n",
       "      <td>0</td>\n",
       "    </tr>\n",
       "    <tr>\n",
       "      <th>2</th>\n",
       "      <td>0</td>\n",
       "    </tr>\n",
       "    <tr>\n",
       "      <th>3</th>\n",
       "      <td>0</td>\n",
       "    </tr>\n",
       "    <tr>\n",
       "      <th>4</th>\n",
       "      <td>0</td>\n",
       "    </tr>\n",
       "  </tbody>\n",
       "</table>\n",
       "</div>"
      ],
      "text/plain": [
       "   Fire Alarm\n",
       "0           0\n",
       "1           0\n",
       "2           0\n",
       "3           0\n",
       "4           0"
      ]
     },
     "execution_count": 38,
     "metadata": {},
     "output_type": "execute_result"
    }
   ],
   "source": [
    "y.head()"
   ]
  },
  {
   "cell_type": "code",
   "execution_count": 39,
   "id": "0d876471",
   "metadata": {},
   "outputs": [],
   "source": [
    "import sklearn\n",
    "from sklearn.model_selection import train_test_split\n",
    "X_train, X_test, y_train, y_test = train_test_split( X, y, test_size=0.2, random_state=42)"
   ]
  },
  {
   "cell_type": "code",
   "execution_count": 40,
   "id": "1dea1f3f",
   "metadata": {},
   "outputs": [
    {
     "data": {
      "text/plain": [
       "(50104, 14)"
      ]
     },
     "execution_count": 40,
     "metadata": {},
     "output_type": "execute_result"
    }
   ],
   "source": [
    "X_train.shape"
   ]
  },
  {
   "cell_type": "code",
   "execution_count": 41,
   "id": "d893faea",
   "metadata": {},
   "outputs": [
    {
     "data": {
      "text/plain": [
       "(50104, 1)"
      ]
     },
     "execution_count": 41,
     "metadata": {},
     "output_type": "execute_result"
    }
   ],
   "source": [
    "y_train.shape"
   ]
  },
  {
   "cell_type": "code",
   "execution_count": 42,
   "id": "34cc9b24",
   "metadata": {},
   "outputs": [
    {
     "data": {
      "text/plain": [
       "(12526, 14)"
      ]
     },
     "execution_count": 42,
     "metadata": {},
     "output_type": "execute_result"
    }
   ],
   "source": [
    "X_test.shape"
   ]
  },
  {
   "cell_type": "code",
   "execution_count": 43,
   "id": "0aaf9994",
   "metadata": {},
   "outputs": [
    {
     "data": {
      "text/plain": [
       "(12526, 1)"
      ]
     },
     "execution_count": 43,
     "metadata": {},
     "output_type": "execute_result"
    }
   ],
   "source": [
    "y_test.shape"
   ]
  },
  {
   "cell_type": "markdown",
   "id": "f006c72f",
   "metadata": {},
   "source": [
    "# Feature Scaling"
   ]
  },
  {
   "cell_type": "code",
   "execution_count": 44,
   "id": "dcd3d8fc",
   "metadata": {},
   "outputs": [],
   "source": [
    "from sklearn.preprocessing import StandardScaler\n",
    "sc = StandardScaler()\n",
    "X_train = sc.fit_transform(X_train)\n",
    "X_test = sc.transform(X_test)"
   ]
  },
  {
   "cell_type": "markdown",
   "id": "9a17ca4c",
   "metadata": {},
   "source": [
    "# Modelling"
   ]
  },
  {
   "cell_type": "markdown",
   "id": "eedaf3b6",
   "metadata": {},
   "source": [
    "# 1. K-NN Algorithm"
   ]
  },
  {
   "cell_type": "code",
   "execution_count": 45,
   "id": "444b51cc",
   "metadata": {},
   "outputs": [
    {
     "name": "stdout",
     "output_type": "stream",
     "text": [
      "KNeighborsClassifier(n_neighbors=15)\n",
      "training accuracy is 0.9993812869231997\n",
      "testing accuracy is  0.9996806642184257\n"
     ]
    }
   ],
   "source": [
    "from sklearn.neighbors import KNeighborsClassifier\n",
    "from sklearn.model_selection import GridSearchCV\n",
    "\n",
    "hyper_parameter_k=[{'n_neighbors':[11,13,15,17,19,21,23,25,27,29,31,33,35,37,39,41,43,45,47,49]}]\n",
    "clf= KNeighborsClassifier()\n",
    "modelknn=GridSearchCV( clf,hyper_parameter_k,scoring='accuracy')\n",
    "\n",
    "modelknn.fit(X_train,y_train)\n",
    "\n",
    "print(modelknn.best_estimator_)\n",
    "print(\"training accuracy is\",modelknn.score(X_train,y_train))\n",
    "print(\"testing accuracy is \",modelknn.score(X_test,y_test))"
   ]
  },
  {
   "cell_type": "code",
   "execution_count": 46,
   "id": "885d72e1",
   "metadata": {},
   "outputs": [],
   "source": [
    "#PREDICTIONS\n",
    "knn_test_prediction=modelknn.predict(X_test)\n",
    "knn_train_predictions=modelknn.predict(X_train)"
   ]
  },
  {
   "cell_type": "code",
   "execution_count": 47,
   "id": "4e9d6e0c",
   "metadata": {},
   "outputs": [
    {
     "name": "stdout",
     "output_type": "stream",
     "text": [
      "[[3592    2]\n",
      " [   2 8930]]\n"
     ]
    }
   ],
   "source": [
    "# confusion matrix\n",
    "#testing confusion matrix\n",
    "from sklearn.metrics import confusion_matrix\n",
    "x_knn_cf_test=confusion_matrix(y_test,knn_test_prediction)\n",
    "print(x_knn_cf_test)"
   ]
  },
  {
   "cell_type": "code",
   "execution_count": 48,
   "id": "c37c4664",
   "metadata": {},
   "outputs": [
    {
     "name": "stdout",
     "output_type": "stream",
     "text": [
      "Test confusion matrix\n"
     ]
    },
    {
     "data": {
      "text/plain": [
       "<AxesSubplot:>"
      ]
     },
     "execution_count": 48,
     "metadata": {},
     "output_type": "execute_result"
    },
    {
     "data": {
      "image/png": "[encoded data removed]",
      "text/plain": [
       "<Figure size 432x288 with 2 Axes>"
      ]
     },
     "metadata": {},
     "output_type": "display_data"
    }
   ],
   "source": [
    "print(\"Test confusion matrix\")\n",
    "sns.set(font_scale=1.4)\n",
    "sns.heatmap(x_knn_cf_test, annot=True,annot_kws={\"size\": 26}, fmt='g',cmap=\"YlGnBu\")"
   ]
  },
  {
   "cell_type": "code",
   "execution_count": 49,
   "id": "926e5090",
   "metadata": {},
   "outputs": [
    {
     "name": "stdout",
     "output_type": "stream",
     "text": [
      "[[14260    19]\n",
      " [   12 35813]]\n"
     ]
    }
   ],
   "source": [
    "# confusion matrix\n",
    "#training confusion matrix\n",
    "from sklearn.metrics import confusion_matrix\n",
    "x_knn_cf_train=confusion_matrix(y_train,knn_train_predictions)\n",
    "print(x_knn_cf_train)"
   ]
  },
  {
   "cell_type": "code",
   "execution_count": 50,
   "id": "c5e85e9d",
   "metadata": {},
   "outputs": [
    {
     "name": "stdout",
     "output_type": "stream",
     "text": [
      "Train confusion matrix\n"
     ]
    },
    {
     "data": {
      "text/plain": [
       "<AxesSubplot:>"
      ]
     },
     "execution_count": 50,
     "metadata": {},
     "output_type": "execute_result"
    },
    {
     "data": {
      "image/png": "[encoded data removed]",
      "text/plain": [
       "<Figure size 432x288 with 2 Axes>"
      ]
     },
     "metadata": {},
     "output_type": "display_data"
    }
   ],
   "source": [
    "print(\"Train confusion matrix\")\n",
    "sns.set(font_scale=1.4)\n",
    "sns.heatmap(x_knn_cf_train, annot=True,annot_kws={\"size\": 26}, fmt='g',cmap=\"YlGnBu\")"
   ]
  },
  {
   "cell_type": "code",
   "execution_count": 107,
   "id": "4a8b215c",
   "metadata": {},
   "outputs": [
    {
     "name": "stdout",
     "output_type": "stream",
     "text": [
      "Testing F1 score for KNN is:  0.9997760859829825\n",
      "Training F1 score for KNN is:  0.9995673835075429\n"
     ]
    }
   ],
   "source": [
    "#F1 score\n",
    "#Testing data\n",
    "from sklearn.metrics import f1_score\n",
    "X_knntest_F1score=f1_score(y_test,knn_test_prediction)\n",
    "print(\"Testing F1 score for KNN is: \",X_knntest_F1score) \n",
    "\n",
    "#Training data\n",
    "X_knntrain_F1score=f1_score(y_train,knn_train_predictions)\n",
    "print(\"Training F1 score for KNN is: \",X_knntrain_F1score) "
   ]
  },
  {
   "cell_type": "code",
   "execution_count": 108,
   "id": "4e7acb16",
   "metadata": {},
   "outputs": [
    {
     "name": "stdout",
     "output_type": "stream",
     "text": [
      "The precision of KNN for testing data is:  0.9997760859829825\n",
      "The precision of KNN for training data is: 0.9994697477115427\n"
     ]
    }
   ],
   "source": [
    "#Precision\n",
    "#Testing data\n",
    "from sklearn.metrics import precision_score\n",
    "x_knn_p_test=precision_score(y_test,knn_test_prediction)\n",
    "print(\"The precision of KNN for testing data is: \",x_knn_p_test)\n",
    "\n",
    "#Training data\n",
    "from sklearn.metrics import precision_score\n",
    "x_knn_p=precision_score(y_train,knn_train_predictions)\n",
    "print(\"The precision of KNN for training data is:\",x_knn_p)"
   ]
  },
  {
   "cell_type": "code",
   "execution_count": 109,
   "id": "8ce758cb",
   "metadata": {},
   "outputs": [
    {
     "name": "stdout",
     "output_type": "stream",
     "text": [
      "The recall of test data for knn is:  0.9997760859829825\n",
      "The recall of training data for knn is:  0.9996650383810188\n"
     ]
    }
   ],
   "source": [
    "#Recall\n",
    "#Testing data\n",
    "from sklearn.metrics import recall_score\n",
    "x_knn_r_test=recall_score(y_test,knn_test_prediction)\n",
    "print(\"The recall of test data for knn is: \",x_knn_r_test)\n",
    "\n",
    "#Training data\n",
    "from sklearn.metrics import recall_score\n",
    "x_knn_r_train=recall_score(y_train,knn_train_predictions)\n",
    "print(\"The recall of training data for knn is: \",x_knn_r_train)"
   ]
  },
  {
   "cell_type": "code",
   "execution_count": 110,
   "id": "2cfedcc6",
   "metadata": {},
   "outputs": [
    {
     "name": "stdout",
     "output_type": "stream",
     "text": [
      "training accuracy for KNN is: 0.9993812869231997\n",
      "testing accuracy for KNN is: 0.9996806642184257\n"
     ]
    }
   ],
   "source": [
    "#Accuracy\n",
    "#Training data\n",
    "from sklearn.metrics import accuracy_score\n",
    "a=accuracy_score(y_train,knn_train_predictions)\n",
    "\n",
    "print(\"training accuracy for KNN is:\",a)\n",
    "\n",
    "#Tesing data\n",
    "from sklearn.metrics import accuracy_score\n",
    "b=accuracy_score(y_test,knn_test_prediction)\n",
    "\n",
    "print(\"testing accuracy for KNN is:\",b)"
   ]
  },
  {
   "cell_type": "markdown",
   "id": "cf733efd",
   "metadata": {},
   "source": [
    "# 2. Logistic Regression"
   ]
  },
  {
   "cell_type": "code",
   "execution_count": 55,
   "id": "089b6406",
   "metadata": {},
   "outputs": [
    {
     "name": "stdout",
     "output_type": "stream",
     "text": [
      "LogisticRegression(C=10000, class_weight='balanced', max_iter=400)\n",
      "0.9935334504231199\n",
      "0.9923558997285646\n"
     ]
    }
   ],
   "source": [
    "tuned_parameters=[{'C':[10**-8,10**-4,10**0,10**4,10**8]}]\n",
    "\n",
    "LRmodel=GridSearchCV(LogisticRegression(max_iter=400,class_weight='balanced'),tuned_parameters)\n",
    "\n",
    "LRmodel.fit(X_train,y_train)\n",
    "\n",
    "print(LRmodel.best_estimator_)\n",
    "print(LRmodel.score(X_test,y_test))\n",
    "print(LRmodel.score(X_train,y_train))"
   ]
  },
  {
   "cell_type": "code",
   "execution_count": 56,
   "id": "182c7e8f",
   "metadata": {},
   "outputs": [],
   "source": [
    "#PREDICTIONS\n",
    "LR_test_prediction=LRmodel.predict(X_test)\n",
    "LR_train_prediction=LRmodel.predict(X_train)"
   ]
  },
  {
   "cell_type": "code",
   "execution_count": 57,
   "id": "2143bc5e",
   "metadata": {},
   "outputs": [
    {
     "name": "stdout",
     "output_type": "stream",
     "text": [
      "[[3586    8]\n",
      " [  73 8859]]\n"
     ]
    }
   ],
   "source": [
    "# confusion matrix\n",
    "#testing confusion matrix\n",
    "from sklearn.metrics import confusion_matrix\n",
    "x_LR_cf_test=confusion_matrix(y_test,LR_test_prediction)\n",
    "print(x_LR_cf_test)"
   ]
  },
  {
   "cell_type": "code",
   "execution_count": 58,
   "id": "dcabf2ef",
   "metadata": {},
   "outputs": [
    {
     "name": "stdout",
     "output_type": "stream",
     "text": [
      "Test confusion matrix\n"
     ]
    },
    {
     "data": {
      "text/plain": [
       "<AxesSubplot:>"
      ]
     },
     "execution_count": 58,
     "metadata": {},
     "output_type": "execute_result"
    },
    {
     "data": {
      "image/png": "[encoded data removed]",
      "text/plain": [
       "<Figure size 432x288 with 2 Axes>"
      ]
     },
     "metadata": {},
     "output_type": "display_data"
    }
   ],
   "source": [
    "print(\"Test confusion matrix\")\n",
    "sns.set(font_scale=1.4)\n",
    "sns.heatmap(x_LR_cf_test, annot=True,annot_kws={\"size\": 26}, fmt='g',cmap=\"YlGnBu\")"
   ]
  },
  {
   "cell_type": "code",
   "execution_count": 59,
   "id": "15636412",
   "metadata": {},
   "outputs": [
    {
     "name": "stdout",
     "output_type": "stream",
     "text": [
      "[[14238    41]\n",
      " [  342 35483]]\n"
     ]
    }
   ],
   "source": [
    "# confusion matrix\n",
    "#training confusion matrix\n",
    "from sklearn.metrics import confusion_matrix\n",
    "x_LR_cf_train=confusion_matrix(y_train,LR_train_prediction)\n",
    "print(x_LR_cf_train)"
   ]
  },
  {
   "cell_type": "code",
   "execution_count": 60,
   "id": "4d3c3586",
   "metadata": {},
   "outputs": [
    {
     "name": "stdout",
     "output_type": "stream",
     "text": [
      "Train confusion matrix\n"
     ]
    },
    {
     "data": {
      "text/plain": [
       "<AxesSubplot:>"
      ]
     },
     "execution_count": 60,
     "metadata": {},
     "output_type": "execute_result"
    },
    {
     "data": {
      "image/png": "[encoded data removed]",
      "text/plain": [
       "<Figure size 432x288 with 2 Axes>"
      ]
     },
     "metadata": {},
     "output_type": "display_data"
    }
   ],
   "source": [
    "print(\"Train confusion matrix\")\n",
    "sns.set(font_scale=1.4)\n",
    "sns.heatmap(x_LR_cf_train, annot=True,annot_kws={\"size\": 26}, fmt='g',cmap=\"YlGnBu\")"
   ]
  },
  {
   "cell_type": "code",
   "execution_count": 111,
   "id": "bb0c978e",
   "metadata": {},
   "outputs": [
    {
     "name": "stdout",
     "output_type": "stream",
     "text": [
      "Testing F1 score for Logistic Regression is: 0.9954491825383447\n",
      "Training F1 score for Logistic Regression is: 0.9946320200703583\n"
     ]
    }
   ],
   "source": [
    "#F1 score\n",
    "#Testing data\n",
    "from sklearn.metrics import f1_score\n",
    "X_LR_test_F1score=f1_score(y_test,LR_test_prediction)\n",
    "print(\"Testing F1 score for Logistic Regression is:\",X_LR_test_F1score) \n",
    "\n",
    "#Training data\n",
    "X_LR_train_F1score=f1_score(y_train,LR_train_prediction)\n",
    "print(\"Training F1 score for Logistic Regression is:\",X_LR_train_F1score)"
   ]
  },
  {
   "cell_type": "code",
   "execution_count": 112,
   "id": "23e60463",
   "metadata": {},
   "outputs": [
    {
     "name": "stdout",
     "output_type": "stream",
     "text": [
      "The precision of Logistic Regression for testing data is: 0.999097778279012\n",
      "The precision of Logistic Regression for training data is: 0.9988458506924895\n"
     ]
    }
   ],
   "source": [
    "#Precision\n",
    "#Testing data\n",
    "from sklearn.metrics import precision_score\n",
    "X_LR_prec_test=precision_score(y_test,LR_test_prediction)\n",
    "print(\"The precision of Logistic Regression for testing data is:\",X_LR_prec_test)\n",
    "\n",
    "#Training data\n",
    "from sklearn.metrics import precision_score\n",
    "X_LR_prec_train=precision_score(y_train,LR_train_prediction)\n",
    "print(\"The precision of Logistic Regression for training data is:\",X_LR_prec_train)"
   ]
  },
  {
   "cell_type": "code",
   "execution_count": 91,
   "id": "b298a417",
   "metadata": {},
   "outputs": [
    {
     "name": "stdout",
     "output_type": "stream",
     "text": [
      "The recall of test data for Logistic Regression is 0.9918271383788625\n",
      "The recall of training data for Logistic Regression is 0.990453593859037\n"
     ]
    }
   ],
   "source": [
    "#Recall\n",
    "#Testing data\n",
    "from sklearn.metrics import recall_score\n",
    "x_LR_rec_test=recall_score(y_test,LR_test_prediction)\n",
    "print(\"The recall of test data for Logistic Regression is\",x_LR_rec_test)\n",
    "\n",
    "#Training data\n",
    "from sklearn.metrics import recall_score\n",
    "x_LR_rec_train=recall_score(y_train,LR_train_prediction)\n",
    "print(\"The recall of training data for Logistic Regression is\",x_LR_rec_train)"
   ]
  },
  {
   "cell_type": "code",
   "execution_count": 113,
   "id": "82a36f9f",
   "metadata": {},
   "outputs": [
    {
     "name": "stdout",
     "output_type": "stream",
     "text": [
      "training accuracy for Logistic Regression is 0.9923558997285646\n",
      "testing accuracy for Logistic Regression is 0.9935334504231199\n"
     ]
    }
   ],
   "source": [
    "#Accuracy\n",
    "#Training data\n",
    "from sklearn.metrics import accuracy_score\n",
    "a=accuracy_score(y_train,LR_train_prediction)\n",
    "\n",
    "print(\"training accuracy for Logistic Regression is\",a)\n",
    "\n",
    "#Testing data\n",
    "from sklearn.metrics import accuracy_score\n",
    "b=accuracy_score(y_test,LR_test_prediction)\n",
    "\n",
    "print(\"testing accuracy for Logistic Regression is\",b)"
   ]
  },
  {
   "cell_type": "markdown",
   "id": "a9ffb903",
   "metadata": {},
   "source": [
    "# 3. Random Forest"
   ]
  },
  {
   "cell_type": "code",
   "execution_count": 68,
   "id": "4ff403b9",
   "metadata": {},
   "outputs": [],
   "source": [
    "from sklearn.ensemble import RandomForestClassifier\n",
    "from sklearn.model_selection import GridSearchCV\n",
    "param_grid = {\n",
    "    'n_estimators': [200,300, 500],\n",
    "    'max_depth' : [4,5,6]\n",
    "}\n",
    "rfc=RandomForestClassifier(random_state=42)\n",
    "\n",
    "grid_search = GridSearchCV(estimator = rfc, param_grid = param_grid, \n",
    "                          cv = 3, n_jobs = -1)"
   ]
  },
  {
   "cell_type": "code",
   "execution_count": 69,
   "id": "a1c51b1f",
   "metadata": {},
   "outputs": [
    {
     "name": "stdout",
     "output_type": "stream",
     "text": [
      "{'max_depth': 5, 'n_estimators': 300}\n"
     ]
    }
   ],
   "source": [
    "grid_search.fit(X_train, y_train)\n",
    "print(grid_search.best_params_)"
   ]
  },
  {
   "cell_type": "code",
   "execution_count": 70,
   "id": "1e9a525c",
   "metadata": {},
   "outputs": [],
   "source": [
    "#training the random forest model\n",
    "rfc_new=RandomForestClassifier(criterion= 'entropy', max_depth= 6, max_features= 'auto', n_estimators=500,random_state=42)\n",
    "random_forest_model=rfc_new.fit(X_train,y_train)"
   ]
  },
  {
   "cell_type": "code",
   "execution_count": 71,
   "id": "e56a22c2",
   "metadata": {},
   "outputs": [],
   "source": [
    "#predictions\n",
    "rf_predictions_test=random_forest_model.predict(X_test)\n",
    "rf_predictions_train=random_forest_model.predict(X_train)"
   ]
  },
  {
   "cell_type": "code",
   "execution_count": 72,
   "id": "2b34ff6f",
   "metadata": {},
   "outputs": [
    {
     "name": "stdout",
     "output_type": "stream",
     "text": [
      "[[14279     0]\n",
      " [    2 35823]]\n"
     ]
    }
   ],
   "source": [
    "# confusion matrix\n",
    "#training confusion matrix\n",
    "from sklearn.metrics import confusion_matrix\n",
    "x_rf_train=confusion_matrix(y_train,rf_predictions_train)\n",
    "print(x_rf_train)"
   ]
  },
  {
   "cell_type": "code",
   "execution_count": 73,
   "id": "44fa7936",
   "metadata": {},
   "outputs": [
    {
     "name": "stdout",
     "output_type": "stream",
     "text": [
      "Train confusion matrix\n"
     ]
    },
    {
     "data": {
      "text/plain": [
       "<AxesSubplot:>"
      ]
     },
     "execution_count": 73,
     "metadata": {},
     "output_type": "execute_result"
    },
    {
     "data": {
      "image/png": "[encoded data removed]",
      "text/plain": [
       "<Figure size 432x288 with 2 Axes>"
      ]
     },
     "metadata": {},
     "output_type": "display_data"
    }
   ],
   "source": [
    "print(\"Train confusion matrix\")\n",
    "sns.set(font_scale=1.4)\n",
    "sns.heatmap(x_rf_train, annot=True,annot_kws={\"size\": 26}, fmt='g',cmap=\"YlGnBu\")"
   ]
  },
  {
   "cell_type": "code",
   "execution_count": 74,
   "id": "3845cbe7",
   "metadata": {},
   "outputs": [
    {
     "name": "stdout",
     "output_type": "stream",
     "text": [
      "[[3594    0]\n",
      " [   0 8932]]\n"
     ]
    }
   ],
   "source": [
    "from sklearn.metrics import confusion_matrix\n",
    "x_rf_test=confusion_matrix(y_test,rf_predictions_test)\n",
    "print(x_rf_test)"
   ]
  },
  {
   "cell_type": "code",
   "execution_count": 75,
   "id": "8b49e24a",
   "metadata": {},
   "outputs": [
    {
     "name": "stdout",
     "output_type": "stream",
     "text": [
      "Test confusion matrix\n"
     ]
    },
    {
     "data": {
      "text/plain": [
       "<AxesSubplot:>"
      ]
     },
     "execution_count": 75,
     "metadata": {},
     "output_type": "execute_result"
    },
    {
     "data": {
      "image/png": "[encoded data removed]",
      "text/plain": [
       "<Figure size 432x288 with 2 Axes>"
      ]
     },
     "metadata": {},
     "output_type": "display_data"
    }
   ],
   "source": [
    "print(\"Test confusion matrix\")\n",
    "sns.set(font_scale=1.4)\n",
    "sns.heatmap(x_rf_test, annot=True,annot_kws={\"size\": 26}, fmt='g',cmap=\"YlGnBu\")"
   ]
  },
  {
   "cell_type": "code",
   "execution_count": 115,
   "id": "4482acae",
   "metadata": {},
   "outputs": [
    {
     "name": "stdout",
     "output_type": "stream",
     "text": [
      "Testing F1 score for Random Forest is 1.0\n",
      "Training F1 score for Random Forest is 0.999972085752568\n"
     ]
    }
   ],
   "source": [
    "#F1 score\n",
    "\n",
    "from sklearn.metrics import f1_score\n",
    "X_test_F1score=f1_score(y_test,rf_predictions_test)\n",
    "print(\"Testing F1 score for Random Forest is\",X_test_F1score) \n",
    "\n",
    "X_train_F1score=f1_score(y_train,rf_predictions_train)\n",
    "print(\"Training F1 score for Random Forest is\",X_train_F1score) "
   ]
  },
  {
   "cell_type": "code",
   "execution_count": 116,
   "id": "fe84b3d9",
   "metadata": {},
   "outputs": [
    {
     "name": "stdout",
     "output_type": "stream",
     "text": [
      "The precision of Random Forest for testing data 1.0\n",
      "The precision of Random Forest for training data 1.0\n"
     ]
    }
   ],
   "source": [
    "#Precision\n",
    "#Testing data\n",
    "from sklearn.metrics import precision_score\n",
    "X_rf_prec_test=precision_score(y_test,rf_predictions_test)\n",
    "print(\"The precision of Random Forest for testing data\",X_rf_prec_test)\n",
    "\n",
    "#Training data\n",
    "from sklearn.metrics import precision_score\n",
    "X_rf_prec_train=precision_score(y_train,rf_predictions_train)\n",
    "print(\"The precision of Random Forest for training data\",X_rf_prec_train)"
   ]
  },
  {
   "cell_type": "code",
   "execution_count": 117,
   "id": "e0ed72b0",
   "metadata": {},
   "outputs": [
    {
     "name": "stdout",
     "output_type": "stream",
     "text": [
      "The recall of test data for Random Forest is: 1.0\n",
      "The recall of training data for Random Forest is: 0.9999441730635031\n"
     ]
    }
   ],
   "source": [
    "#Recall\n",
    "#Testing data\n",
    "from sklearn.metrics import recall_score\n",
    "x_rf_rec_test=recall_score(y_test,rf_predictions_test)\n",
    "print(\"The recall of test data for Random Forest is:\",x_rf_rec_test)\n",
    "\n",
    "#Training data\n",
    "from sklearn.metrics import recall_score\n",
    "x_rf_rec_train=recall_score(y_train,rf_predictions_train)\n",
    "print(\"The recall of training data for Random Forest is:\",x_rf_rec_train)"
   ]
  },
  {
   "cell_type": "code",
   "execution_count": 118,
   "id": "499650f9",
   "metadata": {},
   "outputs": [
    {
     "name": "stdout",
     "output_type": "stream",
     "text": [
      "training accuracy for Random Forest is: 0.9999600830273032\n",
      "testing accuracy for Random Forest is: 1.0\n"
     ]
    }
   ],
   "source": [
    "from sklearn.metrics import accuracy_score\n",
    "a=accuracy_score(y_train,rf_predictions_train)\n",
    "\n",
    "print(\"training accuracy for Random Forest is:\",a)\n",
    "\n",
    "from sklearn.metrics import accuracy_score\n",
    "b=accuracy_score(y_test,rf_predictions_test)\n",
    "\n",
    "print(\"testing accuracy for Random Forest is:\",b)"
   ]
  },
  {
   "cell_type": "markdown",
   "id": "b2bb9026",
   "metadata": {},
   "source": [
    "# 4. Decision Tree"
   ]
  },
  {
   "cell_type": "code",
   "execution_count": 80,
   "id": "7ecb72a3",
   "metadata": {},
   "outputs": [
    {
     "name": "stdout",
     "output_type": "stream",
     "text": [
      "DecisionTreeClassifier(max_depth=6, min_samples_split=5, random_state=42)\n",
      "Testing accuracy is:  0.9993613284368513\n",
      "Training accuracy is:  0.9996008302730321\n"
     ]
    }
   ],
   "source": [
    "from sklearn import tree\n",
    "tuned_parameters=[{'max_depth':[4,5,6]}]\n",
    "\n",
    "clf = tree.DecisionTreeClassifier(min_samples_split=5,random_state=42)\n",
    "\n",
    "\n",
    "dt_model=GridSearchCV(clf,tuned_parameters)\n",
    "\n",
    "dt_model.fit(X_train,y_train)\n",
    "\n",
    "print(dt_model.best_estimator_)\n",
    "print(\"Testing accuracy is: \", dt_model.score(X_test,y_test))\n",
    "print(\"Training accuracy is: \",dt_model.score(X_train,y_train))"
   ]
  },
  {
   "cell_type": "code",
   "execution_count": 81,
   "id": "d2cf40b8",
   "metadata": {},
   "outputs": [],
   "source": [
    "#predictions\n",
    "dt_predictions_test=dt_model.predict(X_test)\n",
    "dt_predictions_train=dt_model.predict(X_train)"
   ]
  },
  {
   "cell_type": "code",
   "execution_count": 82,
   "id": "1ed97462",
   "metadata": {},
   "outputs": [
    {
     "name": "stdout",
     "output_type": "stream",
     "text": [
      "[[14277     2]\n",
      " [   18 35807]]\n"
     ]
    }
   ],
   "source": [
    "# confusion matrix\n",
    "#training confusion matrix\n",
    "from sklearn.metrics import confusion_matrix\n",
    "dt_train=confusion_matrix(y_train,dt_predictions_train)\n",
    "print(dt_train)"
   ]
  },
  {
   "cell_type": "code",
   "execution_count": 83,
   "id": "a5ff92d4",
   "metadata": {},
   "outputs": [
    {
     "name": "stdout",
     "output_type": "stream",
     "text": [
      "Train confusion matrix\n"
     ]
    },
    {
     "data": {
      "text/plain": [
       "<AxesSubplot:>"
      ]
     },
     "execution_count": 83,
     "metadata": {},
     "output_type": "execute_result"
    },
    {
     "data": {
      "image/png": "[encoded data removed]",
      "text/plain": [
       "<Figure size 432x288 with 2 Axes>"
      ]
     },
     "metadata": {},
     "output_type": "display_data"
    }
   ],
   "source": [
    "print(\"Train confusion matrix\")\n",
    "sns.set(font_scale=1.4)\n",
    "sns.heatmap(dt_train, annot=True,annot_kws={\"size\": 26}, fmt='g',cmap=\"YlGnBu\")"
   ]
  },
  {
   "cell_type": "code",
   "execution_count": 84,
   "id": "ba42916d",
   "metadata": {},
   "outputs": [
    {
     "name": "stdout",
     "output_type": "stream",
     "text": [
      "[[3592    2]\n",
      " [   6 8926]]\n"
     ]
    }
   ],
   "source": [
    "from sklearn.metrics import confusion_matrix\n",
    "dt_test=confusion_matrix(y_test,dt_predictions_test)\n",
    "print(dt_test)"
   ]
  },
  {
   "cell_type": "code",
   "execution_count": 85,
   "id": "ba5da38a",
   "metadata": {},
   "outputs": [
    {
     "name": "stdout",
     "output_type": "stream",
     "text": [
      "Test confusion matrix\n"
     ]
    },
    {
     "data": {
      "text/plain": [
       "<AxesSubplot:>"
      ]
     },
     "execution_count": 85,
     "metadata": {},
     "output_type": "execute_result"
    },
    {
     "data": {
      "image/png": "[encoded data removed]",
      "text/plain": [
       "<Figure size 432x288 with 2 Axes>"
      ]
     },
     "metadata": {},
     "output_type": "display_data"
    }
   ],
   "source": [
    "print(\"Test confusion matrix\")\n",
    "sns.set(font_scale=1.4)\n",
    "sns.heatmap(dt_test, annot=True,annot_kws={\"size\": 26}, fmt='g',cmap=\"YlGnBu\")"
   ]
  },
  {
   "cell_type": "code",
   "execution_count": 119,
   "id": "2dca495b",
   "metadata": {},
   "outputs": [
    {
     "name": "stdout",
     "output_type": "stream",
     "text": [
      "Testing F1 score for Decision Tree is: 0.9995520716685331\n",
      "Training F1 score for Decision Tree is: 0.9997208029706564\n"
     ]
    }
   ],
   "source": [
    "#F1 score\n",
    "\n",
    "from sklearn.metrics import f1_score\n",
    "X_dt_test_F1score=f1_score(y_test,dt_predictions_test)\n",
    "print(\"Testing F1 score for Decision Tree is:\",X_dt_test_F1score) \n",
    "\n",
    "X_dt_train_F1score=f1_score(y_train,dt_predictions_train)\n",
    "print(\"Training F1 score for Decision Tree is:\",X_dt_train_F1score) "
   ]
  },
  {
   "cell_type": "code",
   "execution_count": 121,
   "id": "52de3c33",
   "metadata": {},
   "outputs": [
    {
     "name": "stdout",
     "output_type": "stream",
     "text": [
      "The precision of Decision Tree for testing data is: 0.9997759856630825\n",
      "The precision of Decision Tree for training data is: 0.9999441481191879\n"
     ]
    }
   ],
   "source": [
    "#Precision\n",
    "#Testing data\n",
    "from sklearn.metrics import precision_score\n",
    "X_dt_prec_test=precision_score(y_test,dt_predictions_test)\n",
    "print(\"The precision of Decision Tree for testing data is:\",X_dt_prec_test)\n",
    "\n",
    "#Training data\n",
    "from sklearn.metrics import precision_score\n",
    "X_dt_prec_train=precision_score(y_train,dt_predictions_train)\n",
    "print(\"The precision of Decision Tree for training data is:\",X_dt_prec_train)"
   ]
  },
  {
   "cell_type": "code",
   "execution_count": 92,
   "id": "491cbf76",
   "metadata": {},
   "outputs": [
    {
     "name": "stdout",
     "output_type": "stream",
     "text": [
      "The recall of test data for Decision Tree is 0.9993282579489476\n",
      "The recall of training data for Decision Tree is 0.9994975575715283\n"
     ]
    }
   ],
   "source": [
    "#Recall\n",
    "#Testing data\n",
    "from sklearn.metrics import recall_score\n",
    "x_dt_rec_test=recall_score(y_test,dt_predictions_test)\n",
    "print(\"The recall of test data for Decision Tree is\",x_dt_rec_test)\n",
    "\n",
    "#Training data\n",
    "from sklearn.metrics import recall_score\n",
    "x_dt_rec_train=recall_score(y_train,dt_predictions_train)\n",
    "print(\"The recall of training data for Decision Tree is\",x_dt_rec_train)"
   ]
  },
  {
   "cell_type": "code",
   "execution_count": 122,
   "id": "51c4a942",
   "metadata": {},
   "outputs": [
    {
     "name": "stdout",
     "output_type": "stream",
     "text": [
      "training accuracy for Decision Tree is: 0.9996008302730321\n",
      "testing accuracy for Decision Tree is: 0.9993613284368513\n"
     ]
    }
   ],
   "source": [
    "from sklearn.metrics import accuracy_score\n",
    "a=accuracy_score(y_train,dt_predictions_train)\n",
    "\n",
    "print(\"training accuracy for Decision Tree is:\",a)\n",
    "\n",
    "from sklearn.metrics import accuracy_score\n",
    "b=accuracy_score(y_test,dt_predictions_test)\n",
    "\n",
    "print(\"testing accuracy for Decision Tree is:\",b)"
   ]
  },
  {
   "cell_type": "markdown",
   "id": "10a64361",
   "metadata": {},
   "source": [
    "# 5. Support Vector Machine (SVM)"
   ]
  },
  {
   "cell_type": "code",
   "execution_count": 93,
   "id": "bbbac4ea",
   "metadata": {},
   "outputs": [
    {
     "name": "stdout",
     "output_type": "stream",
     "text": [
      "SVC(C=10)\n",
      "1.0\n"
     ]
    }
   ],
   "source": [
    "from sklearn import svm\n",
    "tuned_parameters=[{'C':[0.001, 0.01, 0.1, 1, 10]}]\n",
    "clf= svm.SVC(kernel='rbf')\n",
    "smodel=GridSearchCV(clf,tuned_parameters,cv=3)\n",
    "\n",
    "smodel.fit(X_train,y_train)\n",
    "\n",
    "print(smodel.best_estimator_)\n",
    "print(smodel.score(X_test,y_test))\n"
   ]
  },
  {
   "cell_type": "code",
   "execution_count": 96,
   "id": "265efb6a",
   "metadata": {},
   "outputs": [],
   "source": [
    "#predictions\n",
    "svm_predictions_test=smodel.predict(X_test)\n",
    "svm_predictions_train=smodel.predict(X_train)"
   ]
  },
  {
   "cell_type": "code",
   "execution_count": 97,
   "id": "fd0a5d59",
   "metadata": {},
   "outputs": [
    {
     "name": "stdout",
     "output_type": "stream",
     "text": [
      "[[14275     4]\n",
      " [    4 35821]]\n"
     ]
    }
   ],
   "source": [
    "# confusion matrix\n",
    "#training confusion matrix\n",
    "from sklearn.metrics import confusion_matrix\n",
    "svm_train=confusion_matrix(y_train,svm_predictions_train)\n",
    "print(svm_train)"
   ]
  },
  {
   "cell_type": "code",
   "execution_count": 98,
   "id": "4cc7ccd5",
   "metadata": {},
   "outputs": [
    {
     "name": "stdout",
     "output_type": "stream",
     "text": [
      "Train confusion matrix\n"
     ]
    },
    {
     "data": {
      "text/plain": [
       "<AxesSubplot:>"
      ]
     },
     "execution_count": 98,
     "metadata": {},
     "output_type": "execute_result"
    },
    {
     "data": {
      "image/png": "[encoded data removed]",
      "text/plain": [
       "<Figure size 432x288 with 2 Axes>"
      ]
     },
     "metadata": {},
     "output_type": "display_data"
    }
   ],
   "source": [
    "print(\"Train confusion matrix\")\n",
    "sns.set(font_scale=1.4)\n",
    "sns.heatmap(svm_train, annot=True,annot_kws={\"size\": 26}, fmt='g',cmap=\"YlGnBu\")"
   ]
  },
  {
   "cell_type": "code",
   "execution_count": 99,
   "id": "58eababe",
   "metadata": {},
   "outputs": [
    {
     "name": "stdout",
     "output_type": "stream",
     "text": [
      "[[3594    0]\n",
      " [   0 8932]]\n"
     ]
    }
   ],
   "source": [
    "# confusion matrix\n",
    "#testing confusion matrix\n",
    "from sklearn.metrics import confusion_matrix\n",
    "svm_test=confusion_matrix(y_test,svm_predictions_test)\n",
    "print(svm_test)"
   ]
  },
  {
   "cell_type": "code",
   "execution_count": 100,
   "id": "0cc7ce12",
   "metadata": {},
   "outputs": [
    {
     "name": "stdout",
     "output_type": "stream",
     "text": [
      "Test confusion matrix\n"
     ]
    },
    {
     "data": {
      "text/plain": [
       "<AxesSubplot:>"
      ]
     },
     "execution_count": 100,
     "metadata": {},
     "output_type": "execute_result"
    },
    {
     "data": {
      "image/png": "[encoded data removed]",
      "text/plain": [
       "<Figure size 432x288 with 2 Axes>"
      ]
     },
     "metadata": {},
     "output_type": "display_data"
    }
   ],
   "source": [
    "print(\"Test confusion matrix\")\n",
    "sns.set(font_scale=1.4)\n",
    "sns.heatmap(svm_test, annot=True,annot_kws={\"size\": 26}, fmt='g',cmap=\"YlGnBu\")"
   ]
  },
  {
   "cell_type": "code",
   "execution_count": 123,
   "id": "b276816c",
   "metadata": {},
   "outputs": [
    {
     "name": "stdout",
     "output_type": "stream",
     "text": [
      "Testing F1 score for SVM is: 1.0\n",
      "Training F1 score for SVM is: 0.9998883461270063\n"
     ]
    }
   ],
   "source": [
    "#F1 score\n",
    "\n",
    "from sklearn.metrics import f1_score\n",
    "x_svm_test_F1score=f1_score(y_test,svm_predictions_test)\n",
    "print(\"Testing F1 score for SVM is:\",x_svm_test_F1score) \n",
    "\n",
    "x_svm_train_F1score=f1_score(y_train,svm_predictions_train)\n",
    "print(\"Training F1 score for SVM is:\",x_svm_train_F1score) "
   ]
  },
  {
   "cell_type": "code",
   "execution_count": 124,
   "id": "ff00283d",
   "metadata": {},
   "outputs": [
    {
     "name": "stdout",
     "output_type": "stream",
     "text": [
      "The precision of SVM for testing data is: 0.9997759856630825\n",
      "The precision of SVM for training data is: 0.9998883461270063\n"
     ]
    }
   ],
   "source": [
    "#Precision\n",
    "#Testing data\n",
    "from sklearn.metrics import precision_score\n",
    "X_svm_prec_test=precision_score(y_test,svm_predictions_test)\n",
    "print(\"The precision of SVM for testing data is:\",X_dt_prec_test)\n",
    "\n",
    "#Training data\n",
    "from sklearn.metrics import precision_score\n",
    "X_svm_prec_train=precision_score(y_train,svm_predictions_train)\n",
    "print(\"The precision of SVM for training data is:\",X_svm_prec_train)"
   ]
  },
  {
   "cell_type": "code",
   "execution_count": 125,
   "id": "3f203f23",
   "metadata": {},
   "outputs": [
    {
     "name": "stdout",
     "output_type": "stream",
     "text": [
      "The recall of test data for SVM is: 1.0\n",
      "The recall of training data for SVM is: 0.9998883461270063\n"
     ]
    }
   ],
   "source": [
    "#Recall\n",
    "#Testing data\n",
    "from sklearn.metrics import recall_score\n",
    "x_svm_rec_test=recall_score(y_test,svm_predictions_test)\n",
    "print(\"The recall of test data for SVM is:\",x_svm_rec_test)\n",
    "\n",
    "#Training data\n",
    "from sklearn.metrics import recall_score\n",
    "x_svm_rec_train=recall_score(y_train,svm_predictions_train)\n",
    "print(\"The recall of training data for SVM is:\",x_svm_rec_train)"
   ]
  },
  {
   "cell_type": "code",
   "execution_count": 126,
   "id": "07870209",
   "metadata": {},
   "outputs": [
    {
     "name": "stdout",
     "output_type": "stream",
     "text": [
      "training accuracy for SVM is: 0.9998403321092129\n",
      "testing accuracy for SVM is: 1.0\n"
     ]
    }
   ],
   "source": [
    "from sklearn.metrics import accuracy_score\n",
    "a=accuracy_score(y_train,svm_predictions_train)\n",
    "\n",
    "print(\"training accuracy for SVM is:\",a)\n",
    "\n",
    "from sklearn.metrics import accuracy_score\n",
    "b=accuracy_score(y_test,svm_predictions_test)\n",
    "\n",
    "print(\"testing accuracy for SVM is:\",b)"
   ]
  },
  {
   "cell_type": "markdown",
   "id": "b3348c9f",
   "metadata": {},
   "source": [
    "# Conclusion"
   ]
  },
  {
   "cell_type": "code",
   "execution_count": 106,
   "id": "9184e5c8",
   "metadata": {},
   "outputs": [
    {
     "name": "stdout",
     "output_type": "stream",
     "text": [
      "+---------------------+----------+---------+-----------+---------+\n",
      "|      ALGORITHM      | ACCURACY |    F1   | PRECISION |  RECALL |\n",
      "+---------------------+----------+---------+-----------+---------+\n",
      "|         KNN         |  99.93%  | 99.97%  |  99.97%   | 99.97%  |\n",
      "| Logistic Regression |  99.35%  |  99.54% |   99.97%  |  99.18% |\n",
      "|         SVM         |   100%   |   100%  |   99.97%  |   100%  |\n",
      "|    DECISION TREE    |  99.93%  |  99.95% |   99.97%  |  99.93% |\n",
      "|    Random Forest    |   100%   |   100%  |    100%   |   100%  |\n",
      "+---------------------+----------+---------+-----------+---------+\n"
     ]
    }
   ],
   "source": [
    "from prettytable import PrettyTable\n",
    "columns=([\"ALGORITHM\", \"ACCURACY\",\"F1\",\"PRECISION\",\"RECALL\"])\n",
    "myTable = PrettyTable()\n",
    "myTable.add_column(columns[0], [\"KNN\",\"Logistic Regression\",\"SVM\", \"DECISION TREE\" ,\"Random Forest\"])\n",
    "myTable.add_column(columns[1], [\" 99.93%\",\" 99.35%\",\"100%\", \"99.93%\", \"100%\"])\n",
    "myTable.add_column(columns[2], [\"99.97% \",\"99.54%\",\"100%\", \"99.95%\",\"100%\"])\n",
    "myTable.add_column(columns[3], [\"99.97% \",\"99.97%\",\"99.97%\", \"99.97%\",\"100%\"])\n",
    "myTable.add_column(columns[4], [\"99.97% \",\"99.18%\",\"100%\", \"99.93%\",\"100%\"])\n",
    "\n",
    "\n",
    "\n",
    "print(myTable)"
   ]
  },
  {
   "cell_type": "markdown",
   "id": "06e6fa0a",
   "metadata": {},
   "source": [
    "This table makes it quite evident that Random Forest has the greatest Accuracy, F1 Score, Precision, and Recall values. Therefore, future production may employ the same ML model."
   ]
  },
  {
   "cell_type": "code",
   "execution_count": null,
   "id": "19b3703b",
   "metadata": {},
   "outputs": [],
   "source": []
  }
 ],
 "metadata": {
  "kernelspec": {
   "display_name": "Python 3 (ipykernel)",
   "language": "python",
   "name": "python3"
  },
  "language_info": {
   "codemirror_mode": {
    "name": "ipython",
    "version": 3
   },
   "file_extension": ".py",
   "mimetype": "text/x-python",
   "name": "python",
   "nbconvert_exporter": "python",
   "pygments_lexer": "ipython3",
   "version": "3.9.7"
  }
 },
 "nbformat": 4,
 "nbformat_minor": 5
}
